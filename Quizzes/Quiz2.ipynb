{
 "cells": [
  {
   "cell_type": "markdown",
   "metadata": {},
   "source": [
    "Quiz 2\n",
    "\n",
    "Write a function make_deck that returns a list of all of the cards in a standard card deck. The return should be a list of tuples of pairs of suit and value. For example the 10 of Clubs would be ('Clubs', 10) and Queen of Hearts would be ('Hearts', 'Queen'). Recall that a deck has 52 cards, divided into 4 suits (Clubs, Diamonds, Hearts, and Spades), and that each suit has 13 cards: 2 to 10, Jack, Queen, King, and Ace. Summit your solution with Lab 2.\n"
   ]
  },
  {
   "cell_type": "code",
   "execution_count": 1,
   "metadata": {},
   "outputs": [],
   "source": [
    "def make_deck():\n",
    "    deck=[]\n",
    "    suits=['Clubs','Diamonds','Hearts','Spades']\n",
    "    face_cards=['Jack','Queen','King','Ace']\n",
    "\n",
    "    for i in range(4):\n",
    "        for j in range(2,11): deck.append((suits[i],j)) \n",
    "        for k in range(4): deck.append((suits[i],face_cards[k]))\n",
    "\n",
    "    return deck"
   ]
  },
  {
   "cell_type": "code",
   "execution_count": 2,
   "metadata": {},
   "outputs": [
    {
     "data": {
      "text/plain": [
       "[('Clubs', 2),\n",
       " ('Clubs', 3),\n",
       " ('Clubs', 4),\n",
       " ('Clubs', 5),\n",
       " ('Clubs', 6),\n",
       " ('Clubs', 7),\n",
       " ('Clubs', 8),\n",
       " ('Clubs', 9),\n",
       " ('Clubs', 10),\n",
       " ('Clubs', 'Jack'),\n",
       " ('Clubs', 'Queen'),\n",
       " ('Clubs', 'King'),\n",
       " ('Clubs', 'Ace'),\n",
       " ('Diamonds', 2),\n",
       " ('Diamonds', 3),\n",
       " ('Diamonds', 4),\n",
       " ('Diamonds', 5),\n",
       " ('Diamonds', 6),\n",
       " ('Diamonds', 7),\n",
       " ('Diamonds', 8),\n",
       " ('Diamonds', 9),\n",
       " ('Diamonds', 10),\n",
       " ('Diamonds', 'Jack'),\n",
       " ('Diamonds', 'Queen'),\n",
       " ('Diamonds', 'King'),\n",
       " ('Diamonds', 'Ace'),\n",
       " ('Hearts', 2),\n",
       " ('Hearts', 3),\n",
       " ('Hearts', 4),\n",
       " ('Hearts', 5),\n",
       " ('Hearts', 6),\n",
       " ('Hearts', 7),\n",
       " ('Hearts', 8),\n",
       " ('Hearts', 9),\n",
       " ('Hearts', 10),\n",
       " ('Hearts', 'Jack'),\n",
       " ('Hearts', 'Queen'),\n",
       " ('Hearts', 'King'),\n",
       " ('Hearts', 'Ace'),\n",
       " ('Spades', 2),\n",
       " ('Spades', 3),\n",
       " ('Spades', 4),\n",
       " ('Spades', 5),\n",
       " ('Spades', 6),\n",
       " ('Spades', 7),\n",
       " ('Spades', 8),\n",
       " ('Spades', 9),\n",
       " ('Spades', 10),\n",
       " ('Spades', 'Jack'),\n",
       " ('Spades', 'Queen'),\n",
       " ('Spades', 'King'),\n",
       " ('Spades', 'Ace')]"
      ]
     },
     "execution_count": 2,
     "metadata": {},
     "output_type": "execute_result"
    }
   ],
   "source": [
    "cards=make_deck()\n",
    "cards"
   ]
  },
  {
   "cell_type": "code",
   "execution_count": null,
   "metadata": {},
   "outputs": [],
   "source": []
  }
 ],
 "metadata": {
  "kernelspec": {
   "display_name": "Python 3",
   "language": "python",
   "name": "python3"
  },
  "language_info": {
   "codemirror_mode": {
    "name": "ipython",
    "version": 3
   },
   "file_extension": ".py",
   "mimetype": "text/x-python",
   "name": "python",
   "nbconvert_exporter": "python",
   "pygments_lexer": "ipython3",
   "version": "3.9.6"
  }
 },
 "nbformat": 4,
 "nbformat_minor": 2
}
