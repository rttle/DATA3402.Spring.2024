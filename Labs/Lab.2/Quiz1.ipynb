{
 "cells": [
  {
   "cell_type": "code",
   "execution_count": null,
   "metadata": {},
   "outputs": [],
   "source": [
    "def create_new_args(args):\n",
    "    max_len=max(map(len, filter(lambda x: isinstance(x,list),args)))\n",
    "\n",
    "    new_args=[[a]*max_len if not isinstance(a,list) \n",
    "              else print(\"Error: all list arguments must have same length.\") if len(a)!=max_len \n",
    "              else a for a in args]\n",
    "    \n",
    "    return new_args"
   ]
  }
 ],
 "metadata": {
  "language_info": {
   "name": "python"
  }
 },
 "nbformat": 4,
 "nbformat_minor": 2
}
