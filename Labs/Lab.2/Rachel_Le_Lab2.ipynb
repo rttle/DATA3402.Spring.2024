{
 "cells": [
  {
   "cell_type": "markdown",
   "metadata": {},
   "source": [
    "## Lab 2- Tic Tac Toe\n",
    "\n",
    "In this lab your will build a n x n Tic Tac Toe game. As you do the exercises, make sure your solutions work for any size Tic Tac Toe game. "
   ]
  },
  {
   "cell_type": "markdown",
   "metadata": {},
   "source": [
    "*Exercise 1:* Write a function that creates an n by n matrix (of list of lists) which will represent the state of a Tie Tac Toe game. Let 0, 1, and 2 represent empty, \"X\", and \"O\", respectively.\n"
   ]
  },
  {
   "cell_type": "code",
   "execution_count": 20,
   "metadata": {},
   "outputs": [],
   "source": [
    "#defining players and empty spaces\n",
    "p1=1\n",
    "p2=2\n",
    "empty=0\n",
    "\n",
    "# Function to create nxn matrix to represent Board\n",
    "def make_board(size):\n",
    "    #Creating board as a matrix\n",
    "    board=[[empty]*size for i in range(size)]\n",
    "    \n",
    "    return board"
   ]
  },
  {
   "cell_type": "code",
   "execution_count": 3,
   "metadata": {},
   "outputs": [
    {
     "data": {
      "text/plain": [
       "[[0, 0, 0], [0, 0, 0], [0, 0, 0]]"
      ]
     },
     "execution_count": 3,
     "metadata": {},
     "output_type": "execute_result"
    }
   ],
   "source": [
    "# Testing function by using size=3\n",
    "board_0=make_board(3)\n",
    "board_0"
   ]
  },
  {
   "cell_type": "markdown",
   "metadata": {},
   "source": [
    "### *Exercise 2:* Write a function that takes 2 integers `n` and `m` as input and draws a `n` by `m` game board. For example the following is a 3x3 board:\n",
    "```\n",
    "   --- --- --- \n",
    "  |   |   |   | \n",
    "   --- --- ---  \n",
    "  |   |   |   | \n",
    "   --- --- ---  \n",
    "  |   |   |   | \n",
    "   --- --- --- \n",
    "   ```"
   ]
  },
  {
   "cell_type": "code",
   "execution_count": 21,
   "metadata": {},
   "outputs": [],
   "source": [
    "# Function that creates a better visual of board\n",
    "def game_board(n,m):\n",
    "    for i in range(n):\n",
    "        print(' ---'*m)\n",
    "        for j in range(m):\n",
    "            print(f'|  ',end=\" \")\n",
    "        print(\"|\")\n",
    "    print(' ---'*m)"
   ]
  },
  {
   "cell_type": "code",
   "execution_count": 5,
   "metadata": {},
   "outputs": [
    {
     "name": "stdout",
     "output_type": "stream",
     "text": [
      " --- --- --- ---\n",
      "|   |   |   |   |\n",
      " --- --- --- ---\n",
      "|   |   |   |   |\n",
      " --- --- --- ---\n",
      "|   |   |   |   |\n",
      " --- --- --- ---\n"
     ]
    }
   ],
   "source": [
    "# Testing 'game_board' function by asking for a 3x4 board\n",
    "nicer_board=game_board(3,4)"
   ]
  },
  {
   "cell_type": "markdown",
   "metadata": {},
   "source": [
    "*Exercise 3:* Modify exercise 2, so that it takes a matrix of the form from exercise 1 and draws a tic-tac-tie board with \"X\"s and \"O\"s.  "
   ]
  },
  {
   "cell_type": "code",
   "execution_count": 22,
   "metadata": {},
   "outputs": [],
   "source": [
    "# Redefining player symbols\n",
    "p1_piece='X'\n",
    "p2_piece='O'\n",
    "empty_space=' '\n",
    "\n",
    "#linking player number to symbol\n",
    "space_character={p1:p1_piece,\n",
    "                p2:p2_piece,\n",
    "                empty:empty_space}\n",
    "\n",
    "#Function to create better visual but as a matrix\n",
    "def draw_board(board,size):\n",
    "    for i in range(size):\n",
    "        print(' ---'*size)\n",
    "        for j in range(size):\n",
    "            print(f'| {space_character[board[i][j]]}',end=\" \")\n",
    "        print(\"|\")\n",
    "    print(' ---'*size)"
   ]
  },
  {
   "cell_type": "code",
   "execution_count": 7,
   "metadata": {},
   "outputs": [
    {
     "name": "stdout",
     "output_type": "stream",
     "text": [
      " --- --- ---\n",
      "| X |   |   |\n",
      " --- --- ---\n",
      "|   |   |   |\n",
      " --- --- ---\n",
      "|   |   |   |\n",
      " --- --- ---\n"
     ]
    }
   ],
   "source": [
    "# Testing function\n",
    "#Changing an empty spaces to player 1 to see if an 'X' appears\n",
    "board_X=make_board(3)\n",
    "board_X[0][0]=p1\n",
    "draw_board(board_X,3)"
   ]
  },
  {
   "cell_type": "markdown",
   "metadata": {},
   "source": [
    "*Exercise 4:* Write a function that takes a `n` by `n` matrix representing a tic-tac-toe game, and returns -1, 0, 1, or 2 indicating the game is incomplete, the game is a draw, player 1 has won, or player 2 has one, respectively. Here are some example inputs you can use to test your code:"
   ]
  },
  {
   "cell_type": "code",
   "execution_count": 23,
   "metadata": {
    "collapsed": true
   },
   "outputs": [],
   "source": [
    "# Function that returns game status\n",
    "def game_status(board,size):\n",
    "    \n",
    "    #Defining winning boards\n",
    "    for i in range(size):\n",
    "        #checking if player 1 has won (rows)\n",
    "        if board[i]==[p1]*size:\n",
    "            return 1\n",
    "        #checking if player 2 has won (rows)\n",
    "        if board[i]==[p2]*size:\n",
    "            return 2\n",
    "        \n",
    "    #checking columns\n",
    "    #transpose matrix\n",
    "    board_T=list()\n",
    "    for i in range(size):\n",
    "        board_T.append([0]*size)\n",
    "\n",
    "    for i in range(size):\n",
    "        for j in range(size):\n",
    "            board_T[i][j]=board[j][i]\n",
    "\n",
    "    for i in range(size):\n",
    "        #checking if player 1 has won (columns)\n",
    "        if board_T[i]==[p1]*size:\n",
    "            return 1\n",
    "        #checking if player 2 has won (columns)\n",
    "        if board_T[i]==[p2]*size:\n",
    "            return 2\n",
    "\n",
    "    #checking diagonals\n",
    "    diag_1=[board[i][i] for i in range(size)]\n",
    "    if diag_1==[p1]*size:\n",
    "        return 1\n",
    "    if diag_1==[p2]*size:\n",
    "        return 2\n",
    "\n",
    "    diag_2=[board[i][size-i-1] for i in range(size)]\n",
    "    if diag_2==[p1]*size:\n",
    "        return 1\n",
    "    if diag_2==[p2]*size:\n",
    "        return 1\n",
    "    \n",
    "    #checking if draw\n",
    "    draw=True\n",
    "    for i in range(size):\n",
    "        for j in range(size):\n",
    "            if board[i][j]==empty:\n",
    "                draw=False\n",
    "                break\n",
    "        if draw==False:\n",
    "            break\n",
    "    if draw:\n",
    "        return 0\n",
    "        \n",
    "    return -1"
   ]
  },
  {
   "cell_type": "code",
   "execution_count": null,
   "metadata": {},
   "outputs": [],
   "source": [
    "def extract_diags(board):\n",
    "    #checking if a square matrix\n",
    "    n=len(board)\n",
    "    m=len(board[0])\n",
    "\n",
    "    if n!=m:\n",
    "        print('Not a square matrix')\n",
    "        return None\n",
    "    \n",
    "    diag_1=[board[i][i] for i in range(n)]\n",
    "    diag_2=[board[i][n-i-1] for i in range(n)]\n",
    "\n",
    "    return [diag_1,diag_2]\n",
    "\n",
    "def extract_col(board):\n",
    "    #checking if a square matrix\n",
    "    n=len(board)\n",
    "    m=len(board[0])\n",
    "\n",
    "    if n!=m:\n",
    "        print('Not a square matrix')\n",
    "        return None\n",
    "    \n",
    "    #transpose matrix\n",
    "    board_T=list()\n",
    "    for i in range(n):\n",
    "        board_T.append([0]*n)\n",
    "\n",
    "    for i in range(n):\n",
    "        for j in range(n):\n",
    "            board_T[i][j]=board[j][i]\n",
    "    \n",
    "    return board_T\n",
    "\n",
    "def check_if_same(list):\n",
    "    for item in list:\n",
    "        if item!=list[0]:\n",
    "            return 0"
   ]
  },
  {
   "cell_type": "code",
   "execution_count": null,
   "metadata": {
    "collapsed": true
   },
   "outputs": [],
   "source": [
    "winner_is_2 = [[2, 2, 0],\n",
    "\t[2, 1, 0],\n",
    "\t[2, 1, 1]]\n",
    "\n",
    "winner_is_1 = [[1, 2, 0],\n",
    "\t[2, 1, 0],\n",
    "\t[2, 1, 1]]\n",
    "\n",
    "winner_is_also_1 = [[0, 1, 0],\n",
    "\t[2, 1, 0],\n",
    "\t[2, 1, 1]]\n",
    "\n",
    "no_winner = [[1, 2, 0],\n",
    "\t[2, 1, 0],\n",
    "\t[2, 1, 2]]\n",
    "\n",
    "also_no_winner = [[1, 2, 0],\n",
    "\t[2, 1, 0],\n",
    "\t[2, 1, 0]]"
   ]
  },
  {
   "cell_type": "markdown",
   "metadata": {},
   "source": [
    "*Exercise 5:* Write a function that takes a game board, player number, and `(x,y)` coordinates and places \"X\" or \"O\" in the correct location of the game board. Make sure that you only allow filling previously empty locations. Return `True` or `False` to indicate successful placement of \"X\" or \"O\"."
   ]
  },
  {
   "cell_type": "code",
   "execution_count": 24,
   "metadata": {
    "collapsed": true
   },
   "outputs": [],
   "source": [
    "# Function for printing messages to players\n",
    "def print_message(message,verbose=True):\n",
    "    if verbose:\n",
    "        print(message)\n",
    "\n",
    "# Function for player move\n",
    "def player_move(board,player,move,verbose=True):\n",
    "    x,y=move\n",
    "\n",
    "    #Checking if target location is empty\n",
    "    if board[x][y]==empty:\n",
    "        #Place player indicator in location\n",
    "        board[x][y]=player\n",
    "        print_message(f'Turn over.',verbose)\n",
    "        return True\n",
    "    \n",
    "    else:\n",
    "        print_message('Space is already claimed.',verbose)\n",
    "        return False"
   ]
  },
  {
   "cell_type": "code",
   "execution_count": 10,
   "metadata": {
    "collapsed": true
   },
   "outputs": [
    {
     "name": "stdout",
     "output_type": "stream",
     "text": [
      "Turn over.\n",
      " --- --- ---\n",
      "|   |   |   |\n",
      " --- --- ---\n",
      "|   | O |   |\n",
      " --- --- ---\n",
      "|   |   |   |\n",
      " --- --- ---\n"
     ]
    }
   ],
   "source": [
    "# Test your solution here\n",
    "player_move(board_0,p2,(1,1))\n",
    "draw_board(board_0,3)"
   ]
  },
  {
   "cell_type": "markdown",
   "metadata": {},
   "source": [
    "*Exercise 6:* Modify Exercise 4 to show column and row labels so that players can specify location using \"A2\" or \"C1\"."
   ]
  },
  {
   "cell_type": "code",
   "execution_count": 25,
   "metadata": {
    "collapsed": true
   },
   "outputs": [],
   "source": [
    "# Write you solution here\n",
    "\n",
    "#Generating board with labels\n",
    "def labeled_board(board,size):\n",
    "\n",
    "    #Setup for letter labeling of rows\n",
    "    row_names=list(\"ABCDEFGHIJKLMNOPQRSTUVWXYZ\")\n",
    "    row_map=dict(zip(row_names,range(size)))\n",
    "\n",
    "    #Setup for number labeling of columns (starting at 1, not 0)\n",
    "    column_names=list(map(str,range(1,size+1)))\n",
    "    column_map=dict(zip(column_names,range(size)))\n",
    "   \n",
    "    #Making row and column labels on board\n",
    "    print(\" \",end=\" \")\n",
    "    for j in range(size):\n",
    "        print(column_names[j],end=\" \")\n",
    "    print()\n",
    "    \n",
    "    for i in range(size):\n",
    "        print(row_names[i],end=\" \")\n",
    "        for j in range(size):\n",
    "            print(space_character[board[i][j]],end=\" \")\n",
    "        print()"
   ]
  },
  {
   "cell_type": "code",
   "execution_count": 12,
   "metadata": {
    "collapsed": true
   },
   "outputs": [
    {
     "name": "stdout",
     "output_type": "stream",
     "text": [
      "  1 2 3 \n",
      "A X     \n",
      "B       \n",
      "C       \n"
     ]
    }
   ],
   "source": [
    "# Test your solution here\n",
    "labeled_board(board_X,3)"
   ]
  },
  {
   "cell_type": "markdown",
   "metadata": {},
   "source": [
    "*Exercise 7:* Write a function that takes a board, player number, and location specified as in exercise 6 and then calls exercise 5 to correctly modify the board.  "
   ]
  },
  {
   "cell_type": "code",
   "execution_count": 33,
   "metadata": {
    "collapsed": true
   },
   "outputs": [],
   "source": [
    "# Write you solution here\n",
    "def modify_board(board,player,location,size):\n",
    "\n",
    "    #Setup for letter labeling of rows\n",
    "    row_names=list(\"ABCDEFGHIJKLMNOPQRSTUVWXYZ\")\n",
    "    row_map=dict(zip(row_names,range(size)))\n",
    "\n",
    "    #Setup for number labeling of columns (starting at 1, not 0)\n",
    "    column_names=list(map(str,range(1,size+1)))\n",
    "    column_map=dict(zip(column_names,range(size)))\n",
    "\n",
    "    #Parsing location\n",
    "    if not isinstance(location,str):\n",
    "        print_message(\"Bad Input. Location must be string.\")\n",
    "        return False\n",
    "    \n",
    "    if len(location)!=2:\n",
    "        print_message(\"Bad Input. Location must be 2 characters.\")\n",
    "        return False\n",
    "    \n",
    "    row=location[0].upper()\n",
    "    col=location[1].upper()\n",
    "    \n",
    "    if not row in row_names:\n",
    "        print_message(\"Bad Row.\")\n",
    "        return False\n",
    "\n",
    "    if not col in column_names:\n",
    "        print_message(\"Bad Column.\")\n",
    "        return False\n",
    "\n",
    "    coord=row_map[row],column_map[col]\n",
    "\n",
    "    #Calling 'player_move' function\n",
    "    player_move(board,player,coord)\n",
    "\n",
    "    #modify board after move\n",
    "    return labeled_board(board,size)"
   ]
  },
  {
   "cell_type": "code",
   "execution_count": 35,
   "metadata": {
    "collapsed": true
   },
   "outputs": [
    {
     "name": "stdout",
     "output_type": "stream",
     "text": [
      "Turn over.\n",
      "  1 2 3 \n",
      "A X X   \n",
      "B   X   \n",
      "C     O \n"
     ]
    }
   ],
   "source": [
    "# Test your solution here\n",
    "modify_board(board_X,p1,'b2',3)"
   ]
  },
  {
   "cell_type": "markdown",
   "metadata": {},
   "source": [
    "*Exercise 8:* Write a function is called with a board and player number, takes input from the player using python's `input`, and modifies the board using your function from exercise 7. Note that you should keep asking for input until you have gotten a valid input that results in a valid move."
   ]
  },
  {
   "cell_type": "code",
   "execution_count": 27,
   "metadata": {
    "collapsed": true
   },
   "outputs": [],
   "source": [
    "# Write you solution here\n",
    "def player_input(board,player,size):\n",
    "    player_input=input(f'Player {player}, please give coordinate for placement: ')\n",
    "\n",
    "    return modify_board(board,player,player_input,size)"
   ]
  },
  {
   "cell_type": "code",
   "execution_count": 17,
   "metadata": {
    "collapsed": true
   },
   "outputs": [
    {
     "name": "stdout",
     "output_type": "stream",
     "text": [
      "Turn over.\n",
      "  1 2 3 \n",
      "A X X   \n",
      "B       \n",
      "C     O \n"
     ]
    }
   ],
   "source": [
    "# Test your solution here\n",
    "player_input(board_X,p2,3)"
   ]
  },
  {
   "cell_type": "markdown",
   "metadata": {},
   "source": [
    "*Exercise 9:* Use all of the previous exercises to implement a full tic-tac-toe game, where an appropriate board is drawn, 2 players are repeatedly asked for a location coordinates of where they wish to place a mark, and the game status is checked until a player wins or a draw occurs."
   ]
  },
  {
   "cell_type": "code",
   "execution_count": 28,
   "metadata": {
    "collapsed": true
   },
   "outputs": [],
   "source": [
    "# Write you solution here\n",
    "def tic_tac_toe():\n",
    "\n",
    "    #Intro message\n",
    "    print('Welcome to Tic-Tac-Toe.')\n",
    "    print('-----------------------')\n",
    "\n",
    "    #determining size of game board\n",
    "    size=int(input('Indicate size of board: '))\n",
    "\n",
    "    #create board (matrix)\n",
    "    board1=make_board(size)\n",
    "\n",
    "    #start with player 1\n",
    "    player=p1\n",
    "\n",
    "    #draw initial board\n",
    "    labeled_board(board1,size)\n",
    "\n",
    "    #loop for game to ask for inputs/moves until win\n",
    "    winner=-1\n",
    "    while winner==-1:\n",
    "\n",
    "        #make a move\n",
    "        player_input(board1,player,size)\n",
    "\n",
    "        #check if game has been won\n",
    "        winner=game_status(board1,size)\n",
    "\n",
    "        #switch players\n",
    "        if player==p1:\n",
    "            player=p2\n",
    "        else:\n",
    "            player=p1\n",
    "\n",
    "    if winner==0:\n",
    "        print('The game ends in a draw')\n",
    "    else:\n",
    "        print('Winner is player: Player', winner)"
   ]
  },
  {
   "cell_type": "code",
   "execution_count": 19,
   "metadata": {},
   "outputs": [
    {
     "name": "stdout",
     "output_type": "stream",
     "text": [
      "Welcome to Tic-Tac-Toe.\n",
      "-----------------------\n",
      "  1 2 3 \n",
      "A       \n",
      "B       \n",
      "C       \n",
      "Turn over.\n",
      "  1 2 3 \n",
      "A X     \n",
      "B       \n",
      "C       \n",
      "Turn over.\n",
      "  1 2 3 \n",
      "A X     \n",
      "B   O   \n",
      "C       \n",
      "Turn over.\n",
      "  1 2 3 \n",
      "A X X   \n",
      "B   O   \n",
      "C       \n",
      "Turn over.\n",
      "  1 2 3 \n",
      "A X X O \n",
      "B   O   \n",
      "C       \n",
      "Turn over.\n",
      "  1 2 3 \n",
      "A X X O \n",
      "B   O   \n",
      "C X     \n",
      "Turn over.\n",
      "  1 2 3 \n",
      "A X X O \n",
      "B O O   \n",
      "C X     \n",
      "Turn over.\n",
      "  1 2 3 \n",
      "A X X O \n",
      "B O O X \n",
      "C X     \n",
      "Turn over.\n",
      "  1 2 3 \n",
      "A X X O \n",
      "B O O X \n",
      "C X O   \n",
      "Turn over.\n",
      "  1 2 3 \n",
      "A X X O \n",
      "B O O X \n",
      "C X O X \n",
      "The game ends in a draw\n"
     ]
    }
   ],
   "source": [
    "# Test your solution here\n",
    "tic_tac_toe()"
   ]
  },
  {
   "cell_type": "markdown",
   "metadata": {},
   "source": [
    "*Exercise 10:* Test that your game works for 5x5 Tic Tac Toe.  "
   ]
  },
  {
   "cell_type": "code",
   "execution_count": 37,
   "metadata": {
    "collapsed": true
   },
   "outputs": [
    {
     "name": "stdout",
     "output_type": "stream",
     "text": [
      "Welcome to Tic-Tac-Toe.\n",
      "-----------------------\n",
      "  1 2 3 4 5 \n",
      "A           \n",
      "B           \n",
      "C           \n",
      "D           \n",
      "E           \n",
      "Turn over.\n",
      "  1 2 3 4 5 \n",
      "A X         \n",
      "B           \n",
      "C           \n",
      "D           \n",
      "E           \n",
      "Turn over.\n",
      "  1 2 3 4 5 \n",
      "A X         \n",
      "B           \n",
      "C     O     \n",
      "D           \n",
      "E           \n",
      "Turn over.\n",
      "  1 2 3 4 5 \n",
      "A X X       \n",
      "B           \n",
      "C     O     \n",
      "D           \n",
      "E           \n",
      "Turn over.\n",
      "  1 2 3 4 5 \n",
      "A X X       \n",
      "B   O       \n",
      "C     O     \n",
      "D           \n",
      "E           \n",
      "Turn over.\n",
      "  1 2 3 4 5 \n",
      "A X X   X   \n",
      "B   O       \n",
      "C     O     \n",
      "D           \n",
      "E           \n",
      "Turn over.\n",
      "  1 2 3 4 5 \n",
      "A X X   X   \n",
      "B O O       \n",
      "C     O     \n",
      "D           \n",
      "E           \n",
      "Turn over.\n",
      "  1 2 3 4 5 \n",
      "A X X X X   \n",
      "B O O       \n",
      "C     O     \n",
      "D           \n",
      "E           \n",
      "Turn over.\n",
      "  1 2 3 4 5 \n",
      "A X X X X   \n",
      "B O O     O \n",
      "C     O     \n",
      "D           \n",
      "E           \n",
      "Turn over.\n",
      "  1 2 3 4 5 \n",
      "A X X X X   \n",
      "B O O   X O \n",
      "C     O     \n",
      "D           \n",
      "E           \n",
      "Space is already claimed.\n",
      "  1 2 3 4 5 \n",
      "A X X X X   \n",
      "B O O   X O \n",
      "C     O     \n",
      "D           \n",
      "E           \n",
      "Turn over.\n",
      "  1 2 3 4 5 \n",
      "A X X X X X \n",
      "B O O   X O \n",
      "C     O     \n",
      "D           \n",
      "E           \n",
      "Winner is player: Player 1\n"
     ]
    }
   ],
   "source": [
    "# Test your solution here\n",
    "tic_tac_toe()"
   ]
  },
  {
   "cell_type": "markdown",
   "metadata": {},
   "source": [
    "*Exercise 11:* (Advanced / Challenge) Develop a version of the game where one player is the computer. Note that you don't need to do an extensive seach for the best move. You can have the computer simply protect against loosing and otherwise try to win with straight or diagonal patterns."
   ]
  },
  {
   "cell_type": "code",
   "execution_count": null,
   "metadata": {
    "collapsed": true
   },
   "outputs": [],
   "source": [
    "# Write you solution here"
   ]
  },
  {
   "cell_type": "code",
   "execution_count": null,
   "metadata": {
    "collapsed": true
   },
   "outputs": [],
   "source": [
    "# Test your solution here"
   ]
  }
 ],
 "metadata": {
  "kernelspec": {
   "display_name": "Python 3 (ipykernel)",
   "language": "python",
   "name": "python3"
  },
  "language_info": {
   "codemirror_mode": {
    "name": "ipython",
    "version": 3
   },
   "file_extension": ".py",
   "mimetype": "text/x-python",
   "name": "python",
   "nbconvert_exporter": "python",
   "pygments_lexer": "ipython3",
   "version": "3.11.4"
  }
 },
 "nbformat": 4,
 "nbformat_minor": 2
}
