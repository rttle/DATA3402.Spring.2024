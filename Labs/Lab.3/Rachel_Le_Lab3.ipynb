{
 "cells": [
  {
   "cell_type": "markdown",
   "metadata": {},
   "source": [
    "# Lab 3\n",
    "\n",
    "In this lab we will become familiar with distributions, histograms, and functional programming. Do not use numpy or any other library for this lab.\n",
    "\n",
    "Before that, lets get setup homework submission and submit your previous lab.  \n",
    "\n",
    "## Working on the Command-line.\n",
    "\n",
    "It is important for you to learn to work on the command line and to be familiar with the Unix environment (e.g. Linux, Mac OS, or Windows Linux Subsystem). We'll go over working on the command-line in detail later in the course.\n",
    "\n",
    "You are required to submit your work in this course via GitHub. Today in class, you will setup everything on the command-line.\n",
    "\n",
    "### Command-line basics\n",
    "\n",
    "There is plenty of material online that will help you figure out how to do various tasks on the command line. Commands you may need to know today:\n",
    "\n",
    "* `ls`: lists the contents of the current directory.\n",
    "* `pwd`: prints the path of the current directory.\n",
    "* `cd <directory>`: changes your current directory to the specified directory.\n",
    "* `cd ..`: changes current directory to the previous directory. Basically steps out of the current directory to the directory containing the current directory.\n",
    "* `mkdir <directory>`: create a new directory with the specified name.\n",
    "* `rmdir <directory>`: removes the specified directory. Note it has to be empty.\n",
    "* `rm <filename>`: deletes the specified file.\n",
    "* `mv <filename 1> <filename 1>`: Moves or renames a file.\n",
    "* `cp <filename 1> <filename 2>`: copies an file. If you just provide a path to a directory, it copies the file into that directory with the same filename. If you specifiy a new filename, the copy has a new name. For example `cp File.1.txt File.2.txt` creates a copy of `File.1.txt` with the name `File.2.txt`. Meanwhile `cp File.1.txt my_directory`, where `my_directory` is a directory, creates a copy of `File.1.txt` in directory `my_directory` with the name `File.1.txt`.\n",
    "\n",
    "For reference, here are some example resources I found by googling:\n",
    "\n",
    "* Paths and Wildcards: https://www.warp.dev/terminus/linux-wildcards\n",
    "* Basic commands like copy: https://kb.iu.edu/d/afsk\n",
    "* General introduction to shell: https://github-pages.ucl.ac.uk/RCPSTrainingMaterials/HPCandHTCusingLegion/2_intro_to_shell.html\n",
    "* Manual pages: https://www.geeksforgeeks.org/linux-man-page-entries-different-types/?ref=ml_lbp\n",
    "* Chaining commands: https://www.geeksforgeeks.org/chaining-commands-in-linux/?ref=ml_lbp\n",
    "* Piping: https://www.geeksforgeeks.org/piping-in-unix-or-linux/\n",
    "* Using sed: https://www.geeksforgeeks.org/sed-command-linux-set-2/?ref=ml_lbp\n",
    "* Various Unix commands: https://www.geeksforgeeks.org/linux-commands/?ref=lbp\n",
    "* Cheat sheets:\n",
    "    * https://www.stationx.net/unix-commands-cheat-sheet/\n",
    "    * https://cheatography.com/davechild/cheat-sheets/linux-command-line/\n",
    "    * https://www.theknowledgeacademy.com/blog/unix-commands-cheat-sheet/\n",
    "    \n",
    "These aren't necessarily the best resources. Feel free to search for better ones. Also, don't forget that Unix has built-in manual pages for all of its commands. Just type `man <command>` at the command prompt. Use the space-bar to scroll through the documentation and \"q\" to exit.\n",
    "\n",
    "\n",
    "### Setup and Submission\n",
    "\n",
    "Our course repository is public. The instructions here aim to have you setup a fork of the course repository. Unfortunately because you are forking a public repo, your fork will have to be public also. \n",
    "\n",
    "You should be familiar with git from the first semester of this course. I assume that you all have github accounts and have setup things to be able to [push to github using ssh](https://docs.github.com/en/github/authenticating-to-github/connecting-to-github-with-ssh). The instuctions here lead you to:\n",
    "\n",
    "We'll overview what you will do before going through step by step instructions.\n",
    "\n",
    "1. Setup:\n",
    "    1. Fork the class repository. Some directions in [fork-a-repo](https://docs.github.com/en/github/getting-started-with-github/fork-a-repo).\n",
    "    1. Create a directory on your personal system where you will keep all course materials.\n",
    "    1. In that directory, clone your fork of the repository.\n",
    "    1. Using `git remote`, set the upstream to be the class repo, so you can pull from the class and push to your fork.\n",
    "\n",
    "1. Submission:\n",
    "    1. Copy your solutions into the appropriate directory (e.g. into `Labs/Lab.2/`) and with appropriate filename `Lab.2.solution.ipynb'.\n",
    "    1. Commit / push your solutions.\n",
    "    1. Grant access to course instructors.\n",
    "\n",
    "Below are step by step instructions with examples (including example directory naming convention). Feel free to modify things as you see fit. \n",
    "\n",
    "#### Setup\n",
    "You should only need to follow this instructions once. Here are some useful git commands:\n",
    "\n",
    "* Git help: `git help`\n",
    "* Git remote help: `git help remote`\n",
    "* Check remote status: `git remote -v`\n",
    "* Add a remote: `git remote add <stream name> <repo URL>`\n",
    "* Add a remove: `git remote remove <stream name>`\n",
    "\n",
    "Steps:\n",
    "1. In a browser, log into GitHub and navigate to the [course repository](https://github.com/UTA-DataScience/DATA3402.Spring.2024).\n",
    "1. On the top right of the page, press the fork button to create a new fork into your own GitHub account.\n",
    "1. After successful fork, you should find the browser showing your fork of the course repository. Use the green \"Code\" button to copy path to the repo into your the clipboard of your computer.\n",
    "1. Open a shell on your personal computer.\n",
    "1. If you have not done so already, create a new directory/folder where you will keep all course material to navigate to it. For example: `mkdir Data-3402` and `cd Data-3402`.\n",
    "1. Clone your fork of the repository using `git clone` followed by the path you copied into your clipboard. (copy/paste)\n",
    "1. Paste the URL to your fork in the worksheet for the TAs and instructors.\n",
    "1. Now go into the directory of your clone (`cd DATA3402.Spring.2024`).\n",
    "1. Type `git remote -v` to see the current setup for fetch and pull.\n",
    "1. Note the URL you see. This should be the same as what you used for your clone for both push and fetch.\n",
    "1. Delete the origin remote using `git remote remove origin`.\n",
    "1. Add the course repo as your remote using `git remote add origin https://github.com/UTA-DataScience/DATA3402.Spring.2024.git`.\n",
    "1. Change the push to point to your fork. This means you will need the URL to your clone we copied earlier and confirmed as the original origin. The command will look something like: `git remote set-url --push origin  https://github.com/XXXXXX/DATA3402.Spring.2024.git`, where XXXXX is your username on GitHub.\n",
    "1. Note that if you setup everything correctly, you now should be able to do `git pull` to get updates from the course repo, and do `git push` to push your commits into your own fork.\n",
    "\n",
    "### Submission\n",
    "These instructions outline how you submit files. Some useful commands:\n",
    "* To add a file to local repository: `git add <file>`.\n",
    "* To commit all changed files into local repository: `git -a -m \"A message\"`. You need to provide some comment when you commit. \n",
    "* To push the commited files from the local repository to GitHub: `git push`.\n",
    "* To get updates from GitHub: `git pull`.\n",
    "\n",
    "Steps:\n",
    "1. To submit your labs, navigate to your clone of your fork of the course repository. \n",
    "1. Use `git pull` to make sure you have the latest updates. \n",
    "1. Make sure your copy of the lab your are working on is in the appropriate place in this clone. That means if you have the file elsewhere, copy it to the same directory in your clone of your fork. \n",
    "1. Note that in order to avoid future conflicts, you should always name your solution differently than the original file in the class repo. For example if your file is still named `Lab.2.ipynb` you should rename it using the `mv` command: `mv Lab.2.ipynb Lab.2.solution.ipynb`. \n",
    "1. Add and files you wish to submit into the repo. For example: `git add Labs/Lab.2/Lab.2.solution.ipynb`\n",
    "1. Commit any changes: `git commit -a -m \"Lab 2 updates\"`\n",
    "1. Push your changes: `git push`\n",
    "1. Check on github website that your solutions have been properly submitted.\n",
    "\n",
    "Before you leave the session today, submit your Lab.2 solution as is now to make sure you can do it. If you need to work further on your lab, navigate jupyter to the copy of the lab you just submitted and work there. Once done, repeat the commit and push commands to submit your updated solution. Note that lab 2 is due by midnight today (Friday 2/9/2024).\n"
   ]
  },
  {
   "cell_type": "markdown",
   "metadata": {},
   "source": [
    "### Uniform Distribution\n",
    "Lets start with generating some fake random data. You can get a random number between 0 and 1 using the python random module as follow:"
   ]
  },
  {
   "cell_type": "code",
   "execution_count": 1,
   "metadata": {},
   "outputs": [
    {
     "name": "stdout",
     "output_type": "stream",
     "text": [
      "The Value of x is 0.5283770466021404\n"
     ]
    }
   ],
   "source": [
    "import random\n",
    "x=random.random()\n",
    "print(\"The Value of x is\", x)"
   ]
  },
  {
   "cell_type": "markdown",
   "metadata": {},
   "source": [
    "Everytime you call random, you will get a new number.\n",
    "\n",
    "*Exercise 1:* Using random, write a function `generate_uniform(N, mymin, mymax)`, that returns a python list containing N random numbers between specified minimum and maximum value. Note that you may want to quickly work out on paper how to turn numbers between 0 and 1 to between other values. "
   ]
  },
  {
   "cell_type": "code",
   "execution_count": 2,
   "metadata": {},
   "outputs": [],
   "source": [
    "# Skeleton\n",
    "def generate_uniform(N,x_min,x_max):\n",
    "    out = []\n",
    "    ### BEGIN SOLUTION\n",
    "    #Creating random numbers\n",
    "    a=1111111\n",
    "    b=2222222\n",
    "    m=6700417 # This is a large prime number\n",
    "    x=123124\n",
    "    \n",
    "    def random():\n",
    "        nonlocal x\n",
    "        x=(a*x+b)%m\n",
    "        rand_num=x/m  # divide by m to set range to 0->1\n",
    "        return rand_num\n",
    "    \n",
    "    #generating N numbers\n",
    "    num_list=[]\n",
    "    for i in range(N):\n",
    "        num_list.append(random())\n",
    "    \n",
    "    #Converting random number from 0-1 range to between other values and adding to 'out' list\n",
    "    for num in num_list:\n",
    "        num=(x_max-x_min)*num+x_min\n",
    "        out.append(num)\n",
    "    \n",
    "    ### END SOLUTION\n",
    "    return out"
   ]
  },
  {
   "cell_type": "code",
   "execution_count": 3,
   "metadata": {},
   "outputs": [
    {
     "name": "stdout",
     "output_type": "stream",
     "text": [
      "Data Type: <class 'list'>\n",
      "Data Length: 1000\n",
      "Type of Data Contents: <class 'float'>\n",
      "Data Minimum: -9.957629502760799\n",
      "Data Maximum: 9.99357651919276\n"
     ]
    }
   ],
   "source": [
    "# Test your solution here\n",
    "data=generate_uniform(1000,-10,10)\n",
    "print (\"Data Type:\", type(data))\n",
    "print (\"Data Length:\", len(data))\n",
    "if len(data)>0: \n",
    "    print (\"Type of Data Contents:\", type(data[0]))\n",
    "    print (\"Data Minimum:\", min(data))\n",
    "    print (\"Data Maximum:\", max(data))"
   ]
  },
  {
   "cell_type": "markdown",
   "metadata": {},
   "source": [
    "*Exercise 2a:* \n",
    "Write a function that computes the mean of values in a list. Recall the equation for the mean of a random variable $\\bf{x}$ computed on a data set of $n$ values $\\{ x_i \\} = \\{x_1, x_2, ..., x_n\\}$  is ${\\bf\\bar{x}} = \\frac{1}{n} \\sum_i^n x_i$."
   ]
  },
  {
   "cell_type": "code",
   "execution_count": 4,
   "metadata": {},
   "outputs": [],
   "source": [
    "# Skeleton\n",
    "def mean(Data):\n",
    "    m=0.\n",
    "    \n",
    "    ### BEGIN SOLUTION\n",
    "\n",
    "    n=len(Data)\n",
    "    for num in Data:\n",
    "        m+=num\n",
    "    m=m/n  \n",
    "    \n",
    "    ### END SOLUTION\n",
    "    \n",
    "    return m"
   ]
  },
  {
   "cell_type": "code",
   "execution_count": 5,
   "metadata": {},
   "outputs": [
    {
     "name": "stdout",
     "output_type": "stream",
     "text": [
      "Mean of Data: -0.17229691823658153\n"
     ]
    }
   ],
   "source": [
    "# Test your solution here\n",
    "print (\"Mean of Data:\", mean(data))"
   ]
  },
  {
   "cell_type": "markdown",
   "metadata": {},
   "source": [
    "*Exercise 2b:* \n",
    "Write a function that computes the variance of values in a list. Recall the equation for the variance of a random variable $\\bf{x}$ computed on a data set of $n$ values $\\{ x_i \\} = \\{x_1, x_2, ..., x_n\\}$  is ${\\bf\\langle x \\rangle} = \\frac{1}{n} \\sum_i^n (x_i - {\\bf\\bar{x}})$."
   ]
  },
  {
   "cell_type": "code",
   "execution_count": 6,
   "metadata": {},
   "outputs": [],
   "source": [
    "# Skeleton\n",
    "def variance(Data):\n",
    "    m=0.\n",
    "    \n",
    "    ### BEGIN SOLUTION\n",
    "\n",
    "    mean_x=mean(Data)\n",
    "    n=len(Data)\n",
    "\n",
    "    for num in Data:\n",
    "        m+=(num-mean_x)**2\n",
    "    m=m/n       \n",
    "    \n",
    "    ### END SOLUTION\n",
    "    \n",
    "    return m"
   ]
  },
  {
   "cell_type": "code",
   "execution_count": 7,
   "metadata": {},
   "outputs": [
    {
     "name": "stdout",
     "output_type": "stream",
     "text": [
      "Variance of Data: 31.984227119772232\n"
     ]
    }
   ],
   "source": [
    "# Test your solution here\n",
    "print (\"Variance of Data:\", variance(data))"
   ]
  },
  {
   "cell_type": "markdown",
   "metadata": {},
   "source": [
    "## Histogramming"
   ]
  },
  {
   "cell_type": "markdown",
   "metadata": {},
   "source": [
    "*Exercise 3:* Write a function that bins the data so that you can create a histogram. An example of how to implement histogramming is the following logic:\n",
    "\n",
    "* User inputs a list of values `x` and optionally `n_bins` which defaults to 10.\n",
    "* If not supplied, find the minimum and maximum (`x_min`,`x_max`) of the values in x.\n",
    "* Determine the bin size (`bin_size`) by dividing the range of the function by the number of bins.\n",
    "* Create an empty list of zeros of size `n_bins`, call it `hist`.\n",
    "* Loop over the values in `x`\n",
    "    * Loop over the values in `hist` with index `i`:\n",
    "        * If x is between `x_min+i*bin_size` and `x_min+(i+1)*bin_size`, increment `hist[i].` \n",
    "        * For efficiency, try to use continue to goto the next bin and data point.\n",
    "* Return `hist` and the list corresponding of the bin edges (i.e. of `x_min+i*bin_size`).    "
   ]
  },
  {
   "cell_type": "code",
   "execution_count": 8,
   "metadata": {},
   "outputs": [],
   "source": [
    "def linspace(x_min,x_max,steps=10):\n",
    "    x=x_min\n",
    "    step_size=(x_max-x_min)/steps\n",
    "    out=list()\n",
    "    while x<x_max:\n",
    "        out.append(x)\n",
    "        x+=step_size\n",
    "    return out"
   ]
  },
  {
   "cell_type": "code",
   "execution_count": 9,
   "metadata": {},
   "outputs": [],
   "source": [
    "# Solution\n",
    "def histogram(x,n_bins=10,x_min=None,x_max=None):\n",
    "    ### BEGIN SOLUTION\n",
    "\n",
    "    #finding min/max if not given\n",
    "    if x_min==None:\n",
    "        x_min=min(x)\n",
    "    if x_max==None:\n",
    "        x_max=max(x)\n",
    "\n",
    "    #finding bin edges        \n",
    "    bin_edges = linspace(x_min,x_max,n_bins)\n",
    "    bin_edges.append(x_max) #end exclusive, thus need to add last edge\n",
    "\n",
    "    hist=[0]*n_bins\n",
    "    \n",
    "    #iterating through list of values and determining which bin it is in\n",
    "    for d in data:\n",
    "        #zip two lists; one excluding last bin and one excluding first bin\n",
    "        for i,(low_edge,high_edge) in enumerate(zip(bin_edges[:-1],bin_edges[1:])):\n",
    "            if d>=low_edge and d<high_edge:\n",
    "                hist[i]+=1\n",
    "                break      \n",
    "    \n",
    "    ### END SOLUTION\n",
    "\n",
    "    return hist,bin_edges"
   ]
  },
  {
   "cell_type": "code",
   "execution_count": 10,
   "metadata": {},
   "outputs": [
    {
     "name": "stdout",
     "output_type": "stream",
     "text": [
      "[11, 7, 16, 13, 7, 13, 15, 11, 7, 17, 9, 5, 5, 5, 8, 7, 8, 13, 8, 15, 6, 11, 13, 7, 3, 10, 14, 10, 9, 5, 9, 16, 17, 12, 16, 8, 12, 13, 13, 8, 11, 13, 14, 10, 9, 11, 10, 5, 7, 8, 10, 8, 15, 9, 13, 11, 10, 13, 3, 9, 10, 11, 12, 8, 8, 9, 14, 11, 8, 13, 13, 11, 8, 8, 8, 15, 9, 12, 13, 13, 7, 9, 9, 14, 7, 8, 13, 6, 4, 9, 10, 14, 11, 5, 7, 11, 11, 8, 3, 8]\n"
     ]
    }
   ],
   "source": [
    "# Test your solution here\n",
    "h,b=histogram(data,100)\n",
    "print(h)"
   ]
  },
  {
   "cell_type": "markdown",
   "metadata": {},
   "source": [
    "*Exercise 4:* Write a function that uses the histogram function in the previous exercise to create a text-based \"graph\". For example the output could look like the following:\n",
    "```\n",
    "[  0,  1] : ######\n",
    "[  1,  2] : #####\n",
    "[  2,  3] : ######\n",
    "[  3,  4] : ####\n",
    "[  4,  5] : ####\n",
    "[  5,  6] : ######\n",
    "[  6,  7] : #####\n",
    "[  7,  8] : ######\n",
    "[  8,  9] : ####\n",
    "[  9, 10] : #####\n",
    "```\n",
    "\n",
    "Where each line corresponds to a bin and the number of `#`'s are proportional to the value of the data in the bin. "
   ]
  },
  {
   "cell_type": "code",
   "execution_count": 11,
   "metadata": {},
   "outputs": [],
   "source": [
    "# Solution\n",
    "def draw_histogram(x,n_bins,x_min=None,x_max=None,character=\"#\",max_character_per_line=20):\n",
    "    ### BEGIN SOLUTION\n",
    "\n",
    "    #calling histogram function to get counts and bins\n",
    "    hist, bin_edges = histogram(x,n_bins,x_min,x_max)\n",
    "\n",
    "    # number of characters proportional to value in bin\n",
    "    total=sum(hist)\n",
    "    N_indices=[]\n",
    "    for i in hist:\n",
    "        N_indices.append(round((i/total)*100))\n",
    "\n",
    "    indices=[]\n",
    "    for j in N_indices:\n",
    "        pounds=character*j\n",
    "        indices.append(pounds)\n",
    "\n",
    "    #iterating through bins\n",
    "    for k in range(len(bin_edges)-1):\n",
    "        print (f'[ {bin_edges[k]}, {bin_edges[k+1]}] : {indices[k]}')\n",
    "    \n",
    "    ### END SOLUTION\n",
    "\n",
    "    return hist,bin_edges"
   ]
  },
  {
   "cell_type": "code",
   "execution_count": 12,
   "metadata": {},
   "outputs": [
    {
     "name": "stdout",
     "output_type": "stream",
     "text": [
      "[ -9.957629502760799, -8.96006920166312] : #####\n",
      "[ -8.96006920166312, -7.962508900565442] : ######\n",
      "[ -7.962508900565442, -6.964948599467764] : ###\n",
      "[ -6.964948599467764, -5.967388298370086] : #####\n",
      "[ -5.967388298370086, -4.969827997272407] : ####\n",
      "[ -4.969827997272407, -3.9722676961747294] : #####\n",
      "[ -3.9722676961747294, -2.9747073950770515] : #######\n",
      "[ -2.9747073950770515, -1.9771470939793736] : #####\n",
      "[ -1.9771470939793736, -0.9795867928816956] : ######\n",
      "[ -0.9795867928816956, 0.017973508215982426] : ####\n",
      "[ 0.017973508215982426, 1.0155338093136606] : ######\n",
      "[ 1.0155338093136606, 2.0130941104113385] : #####\n",
      "[ 2.0130941104113385, 3.0106544115090164] : #####\n",
      "[ 3.0106544115090164, 4.008214712606694] : ######\n",
      "[ 4.008214712606694, 5.005775013704373] : #####\n",
      "[ 5.005775013704373, 6.003335314802051] : ######\n",
      "[ 6.003335314802051, 7.000895615899729] : #####\n",
      "[ 7.000895615899729, 7.998455916997408] : ####\n",
      "[ 7.998455916997408, 8.996016218095086] : #####\n",
      "[ 8.996016218095086, 9.99357651919276] : ####\n"
     ]
    },
    {
     "data": {
      "text/plain": [
       "([54,\n",
       "  63,\n",
       "  32,\n",
       "  51,\n",
       "  40,\n",
       "  48,\n",
       "  70,\n",
       "  54,\n",
       "  57,\n",
       "  41,\n",
       "  55,\n",
       "  46,\n",
       "  49,\n",
       "  55,\n",
       "  48,\n",
       "  62,\n",
       "  46,\n",
       "  40,\n",
       "  47,\n",
       "  41],\n",
       " [-9.957629502760799,\n",
       "  -8.96006920166312,\n",
       "  -7.962508900565442,\n",
       "  -6.964948599467764,\n",
       "  -5.967388298370086,\n",
       "  -4.969827997272407,\n",
       "  -3.9722676961747294,\n",
       "  -2.9747073950770515,\n",
       "  -1.9771470939793736,\n",
       "  -0.9795867928816956,\n",
       "  0.017973508215982426,\n",
       "  1.0155338093136606,\n",
       "  2.0130941104113385,\n",
       "  3.0106544115090164,\n",
       "  4.008214712606694,\n",
       "  5.005775013704373,\n",
       "  6.003335314802051,\n",
       "  7.000895615899729,\n",
       "  7.998455916997408,\n",
       "  8.996016218095086,\n",
       "  9.99357651919276])"
      ]
     },
     "execution_count": 12,
     "metadata": {},
     "output_type": "execute_result"
    }
   ],
   "source": [
    "# Test your solution here\n",
    "h,b=histogram(data,20)\n",
    "draw_histogram(data,20)\n"
   ]
  },
  {
   "cell_type": "markdown",
   "metadata": {},
   "source": [
    "## Functional Programming\n",
    "\n",
    "*Exercise 5:* Write a function the applies a booling function (that returns true/false) to every element in data, and return a list of indices of elements where the result was true. Use this function to find the indices of entries greater than 0.5. "
   ]
  },
  {
   "cell_type": "code",
   "execution_count": 13,
   "metadata": {},
   "outputs": [],
   "source": [
    "#function to find indices of entries greater than 0.5\n",
    "def greater_05(arg):\n",
    "    if arg>0.5:\n",
    "        return True\n",
    "\n",
    "def where(mylist,myfunc):\n",
    "    out= []\n",
    "    \n",
    "    ### BEGIN SOLUTION\n",
    "\n",
    "    for i in range(len(mylist)):\n",
    "        if myfunc(mylist[i])==True:\n",
    "            out.append(i)      \n",
    "    \n",
    "    ### END SOLUTION\n",
    "    \n",
    "    return out"
   ]
  },
  {
   "cell_type": "code",
   "execution_count": 14,
   "metadata": {},
   "outputs": [
    {
     "data": {
      "text/plain": [
       "[0, 2, 5, 6]"
      ]
     },
     "execution_count": 14,
     "metadata": {},
     "output_type": "execute_result"
    }
   ],
   "source": [
    "# Test your solution here\n",
    "\n",
    "numlist=[1,0,1.5,0.3,0.5,4,2]\n",
    "output=where(numlist,greater_05)\n",
    "output\n"
   ]
  },
  {
   "cell_type": "markdown",
   "metadata": {},
   "source": [
    "*Exercise 6:* The `inrange(mymin,mymax)` function below returns a function that tests if it's input is between the specified values. Write corresponding functions that test:\n",
    "* Even\n",
    "* Odd\n",
    "* Greater than\n",
    "* Less than\n",
    "* Equal\n",
    "* Divisible by"
   ]
  },
  {
   "cell_type": "code",
   "execution_count": 15,
   "metadata": {},
   "outputs": [
    {
     "name": "stdout",
     "output_type": "stream",
     "text": [
      "True True False False False\n",
      "False False True True False\n",
      "Number of Entries passing F1: 490\n",
      "Number of Entries passing F2: 0\n"
     ]
    }
   ],
   "source": [
    "def in_range(mymin,mymax):\n",
    "    def testrange(x):\n",
    "        return x<mymax and x>=mymin\n",
    "    return testrange\n",
    "\n",
    "# Examples:\n",
    "F1=in_range(0,10)\n",
    "F2=in_range(10,20)\n",
    "\n",
    "# Test of in_range\n",
    "print (F1(0), F1(1), F1(10), F1(15), F1(20))\n",
    "print (F2(0), F2(1), F2(10), F2(15), F2(20))\n",
    "\n",
    "print (\"Number of Entries passing F1:\", len(where(data,F1)))\n",
    "print (\"Number of Entries passing F2:\", len(where(data,F2)))"
   ]
  },
  {
   "cell_type": "code",
   "execution_count": 16,
   "metadata": {},
   "outputs": [],
   "source": [
    "### BEGIN SOLUTION\n",
    "\n",
    "def is_even():\n",
    "    def test_even(num):\n",
    "        return num%2==0\n",
    "    return test_even\n",
    "\n",
    "def is_odd():\n",
    "    def test_odd(num):\n",
    "        return num%2!=0\n",
    "    return test_odd\n",
    "\n",
    "def greater_than(n):\n",
    "    def test_greater_than(num):\n",
    "        return num>n\n",
    "    return test_greater_than\n",
    "\n",
    "def less_than(n):\n",
    "    def test_less_than(num):\n",
    "        return num<n\n",
    "    return test_less_than\n",
    "\n",
    "def equal_to(n):\n",
    "    def test_equal_to(num):\n",
    "        return num==n\n",
    "    return test_equal_to\n",
    "\n",
    "def divisible_by(n):\n",
    "    def test_divisible_by(num):\n",
    "        return num%n==0\n",
    "    return test_divisible_by\n",
    "    \n",
    "### END SOLUTION"
   ]
  },
  {
   "cell_type": "code",
   "execution_count": 17,
   "metadata": {},
   "outputs": [
    {
     "name": "stdout",
     "output_type": "stream",
     "text": [
      "Even? True\n",
      "Odd? False\n",
      "Greater than? False\n",
      "Less than? True\n",
      "Equal to? False\n",
      "Divisible by? False\n"
     ]
    }
   ],
   "source": [
    "# Test your solution\n",
    "\n",
    "#testing even\n",
    "F1=is_even()\n",
    "print(f'Even? {F1(2)}')\n",
    "\n",
    "#testing odd\n",
    "F2=is_odd()\n",
    "print(f'Odd? {F2(2)}')\n",
    "\n",
    "#testing greater than\n",
    "F3=greater_than(5)\n",
    "print(f'Greater than? {F3(2)}')\n",
    "\n",
    "#testing less than\n",
    "F4=less_than(5)\n",
    "print(f'Less than? {F4(2)}')\n",
    "\n",
    "#testing equal to\n",
    "F5=equal_to(5)\n",
    "print(f'Equal to? {F5(2)}')\n",
    "\n",
    "#testing divisible by\n",
    "F6=divisible_by(5)\n",
    "print(f'Divisible by? {F6(2)}')"
   ]
  },
  {
   "cell_type": "markdown",
   "metadata": {},
   "source": [
    "*Exercise 7:* Repeat the previous exercise using `lambda` and the built-in python functions sum and map instead of your solution above. "
   ]
  },
  {
   "cell_type": "code",
   "execution_count": null,
   "metadata": {},
   "outputs": [],
   "source": [
    "### BEGIN SOLUTION\n",
    "\n",
    "def is_even():\n",
    "    return lambda num : num%2==0\n",
    "\n",
    "def is_odd():\n",
    "    return lambda num : num%2!=0\n",
    "\n",
    "def greater_than(n):\n",
    "    return lambda num : num>n\n",
    "\n",
    "def less_than(n):\n",
    "    return lambda num : num<n\n",
    "\n",
    "def equal_to(n):\n",
    "    return lambda num : num==n\n",
    "\n",
    "def divisible_by(n):\n",
    "    return lambda num : num%n==0\n",
    "    \n",
    "### END SOLUTION"
   ]
  },
  {
   "cell_type": "markdown",
   "metadata": {},
   "source": [
    "## Monte Carlo\n",
    "\n",
    "*Exercise 7:* Write a \"generator\" function called `generate_function(func,x_min,x_max,N)`, that instead of generating a flat distribution, generates a distribution with functional form coded in `func`. Note that `func` will always be > 0.  \n",
    "\n",
    "Use the test function below and your histogramming functions above to demonstrate that your generator is working properly.\n",
    "\n",
    "Hint: A simple, but slow, solution is to a draw random number `test_x` within the specified range and another number `p` between the `min` and `max` of the function (which you will have to determine). If `p<=function(test_x)`, then place `test_x` on the output. If not, repeat the process, drawing two new numbers. Repeat until you have the specified number of generated numbers, `N`. For this problem, it's OK to determine the `min` and `max` by numerically sampling the function.  "
   ]
  },
  {
   "cell_type": "markdown",
   "metadata": {},
   "source": [
    "#Rachel's notes; free to ignore\n",
    "\n",
    "Given P(x) in range(xmin,xmax); P(x) is probability function (all positive numbers)\n",
    "Accept/Reject\n",
    "- throw dart (random number generator), if dart is below curve, add x-value into list\n",
    "\n",
    "Is a method of high dimension integration; actual integration is not practical\n",
    "- adaptive sampling"
   ]
  },
  {
   "cell_type": "code",
   "execution_count": 38,
   "metadata": {},
   "outputs": [],
   "source": [
    "#finding ymin and ymax of function \n",
    "def arg_min(lst):\n",
    "    min_val=lst[0]\n",
    "    for i,val in enumerate(lst):\n",
    "        if val<min_val:\n",
    "            min_val=val  \n",
    "    return min_val\n",
    "    \n",
    "def arg_max(lst):\n",
    "    max_val=lst[0]\n",
    "    for i,val in enumerate(lst):\n",
    "        if val>max_val:\n",
    "            max_val=val  \n",
    "    return max_val\n",
    "\n",
    "def find_min_max(func,x_min,x_max,steps=100):\n",
    "    x_vals=linspace(x_min,x_max,steps)\n",
    "    y_vals=list(map(func,x_vals))\n",
    "    ymin=arg_min(y_vals)  \n",
    "    ymax=arg_max(y_vals) \n",
    "    return ymin, ymax\n",
    "\n",
    "def generate_function(func,x_min,x_max,N=1000):\n",
    "    out = list()\n",
    "    ### BEGIN SOLUTION\n",
    "    \n",
    "    ymin,ymax=find_min_max(func,x_min,x_max)\n",
    "    \n",
    "    count=0\n",
    "    while count<N:\n",
    "        x_rand=generate_uniform(1000,x_min,x_max)\n",
    "        y_rand=generate_uniform(1000,ymin,ymax)\n",
    "        for i in range(1000):\n",
    "            if y_rand[i]<func(x_rand[i]):\n",
    "                out.append(x_rand[i])\n",
    "                count+=1\n",
    "    \n",
    "    ### END SOLUTION\n",
    "    \n",
    "    return out"
   ]
  },
  {
   "cell_type": "code",
   "execution_count": 40,
   "metadata": {},
   "outputs": [
    {
     "name": "stdout",
     "output_type": "stream",
     "text": [
      "[ 0.02118524861960084, 1.0187455497172788] : ###########\n",
      "[ 1.0187455497172788, 2.0163058508149567] : #########\n",
      "[ 2.0163058508149567, 3.0138661519126346] : ##########\n",
      "[ 3.0138661519126346, 4.011426453010313] : ###########\n",
      "[ 4.011426453010313, 5.008986754107991] : ##########\n",
      "[ 5.008986754107991, 6.00654705520567] : ############\n",
      "[ 6.00654705520567, 7.004107356303348] : #########\n",
      "[ 7.004107356303348, 8.001667657401025] : ########\n",
      "[ 8.001667657401025, 8.999227958498704] : ##########\n",
      "[ 8.999227958498704, 9.99678825959638] : #########\n"
     ]
    },
    {
     "data": {
      "text/plain": [
       "([54, 46, 49, 55, 49, 61, 46, 40, 47, 42],\n",
       " [0.02118524861960084,\n",
       "  1.0187455497172788,\n",
       "  2.0163058508149567,\n",
       "  3.0138661519126346,\n",
       "  4.011426453010313,\n",
       "  5.008986754107991,\n",
       "  6.00654705520567,\n",
       "  7.004107356303348,\n",
       "  8.001667657401025,\n",
       "  8.999227958498704,\n",
       "  9.99678825959638])"
      ]
     },
     "execution_count": 40,
     "metadata": {},
     "output_type": "execute_result"
    }
   ],
   "source": [
    "# A test function\n",
    "def test_func():\n",
    "    def funct(x,a=1,b=1):\n",
    "        return abs(a*x+b)\n",
    "    return funct\n",
    "\n",
    "function=generate_function(test_func(),0,10)\n",
    "draw_histogram(function,10)"
   ]
  },
  {
   "cell_type": "markdown",
   "metadata": {},
   "source": [
    "*Exercise 8:* Use your function to generate 1000 numbers that are normal distributed, using the `gaussian` function below. Confirm the mean and variance of the data is close to the mean and variance you specify when building the Gaussian. Histogram the data. "
   ]
  },
  {
   "cell_type": "code",
   "execution_count": 41,
   "metadata": {},
   "outputs": [
    {
     "name": "stdout",
     "output_type": "stream",
     "text": [
      "Data mean: 0.41360219141955346\n",
      "Data variance: 0.017288031373107592\n",
      "Data standard deviation: 0.13148395861513903\n"
     ]
    }
   ],
   "source": [
    "import math\n",
    "\n",
    "def gaussian(mean, sigma):\n",
    "    def f(x):\n",
    "        return math.exp(-((x-mean)**2)/(2*sigma**2))/math.sqrt(math.pi*sigma)\n",
    "    return f\n",
    "\n",
    "# Example Instantiation\n",
    "g1=gaussian(0,1)\n",
    "g2=gaussian(10,3)\n",
    "\n",
    "#generating using function\n",
    "norm_dist_gen=generate_function(gaussian(0,1),-3,3)\n",
    "\n",
    "#checking mean and variance\n",
    "y_vals=[g1(x_val) for x_val in norm_dist_gen]\n",
    "gen_mean=mean(y_vals)\n",
    "gen_var=variance(y_vals)\n",
    "print(f'Data mean: {gen_mean}\\nData variance: {gen_var}\\nData standard deviation: {gen_var**(1/2)}')"
   ]
  },
  {
   "cell_type": "code",
   "execution_count": 42,
   "metadata": {},
   "outputs": [
    {
     "name": "stdout",
     "output_type": "stream",
     "text": [
      "[ -1.7451780986168473, -1.4789734131472714] : ###########\n",
      "[ -1.4789734131472714, -1.2127687276776955] : ##############\n",
      "[ -1.2127687276776955, -0.9465640422081195] : ########\n",
      "[ -0.9465640422081195, -0.6803593567385435] : ##########\n",
      "[ -0.6803593567385435, -0.41415467126896754] : ########\n",
      "[ -0.41415467126896754, -0.14794998579939156] : ########\n",
      "[ -0.14794998579939156, 0.11825469967018443] : #########\n",
      "[ 0.11825469967018443, 0.3844593851397604] : ########\n",
      "[ 0.3844593851397604, 0.6506640706093364] : ##############\n",
      "[ 0.6506640706093364, 0.9168687560789124] : #########\n"
     ]
    },
    {
     "data": {
      "text/plain": [
       "([14, 18, 11, 13, 11, 11, 12, 10, 18, 12],\n",
       " [-1.7451780986168473,\n",
       "  -1.4789734131472714,\n",
       "  -1.2127687276776955,\n",
       "  -0.9465640422081195,\n",
       "  -0.6803593567385435,\n",
       "  -0.41415467126896754,\n",
       "  -0.14794998579939156,\n",
       "  0.11825469967018443,\n",
       "  0.3844593851397604,\n",
       "  0.6506640706093364,\n",
       "  0.9168687560789124])"
      ]
     },
     "execution_count": 42,
     "metadata": {},
     "output_type": "execute_result"
    }
   ],
   "source": [
    "draw_histogram(norm_dist_gen,10)"
   ]
  },
  {
   "cell_type": "markdown",
   "metadata": {},
   "source": [
    "*Exercise 9:* Combine your `generate_function`, `where`, and `in_range` functions above to create an integrate function. Use your integrate function to show that approximately 68% of Normal distribution is within one variance."
   ]
  },
  {
   "cell_type": "code",
   "execution_count": 23,
   "metadata": {},
   "outputs": [],
   "source": [
    "def integrate(func, x_min, x_max, n_points=1000):\n",
    "    \n",
    "    #generate function\n",
    "    generated=generate_function(func,x_min,x_max,n_points)\n",
    "    y_vals=[func(x_val) for x_val in generated]\n",
    "\n",
    "    ymin,ymax=find_min_max(func,x_min,x_max)\n",
    "\n",
    "    #finding the fraction of times y < f(x) using where() function\n",
    "    y_list=where(y_vals,in_range(ymin,ymax))\n",
    "    fraction=len(y_list)/len(y_vals)\n",
    "\n",
    "    integral=fraction*((x_max-x_min)*(ymax-ymin))\n",
    "\n",
    "    return integral"
   ]
  },
  {
   "cell_type": "code",
   "execution_count": 35,
   "metadata": {},
   "outputs": [
    {
     "data": {
      "text/plain": [
       "0.44398260647107946"
      ]
     },
     "execution_count": 35,
     "metadata": {},
     "output_type": "execute_result"
    }
   ],
   "source": [
    "#showing that 68% of Normal distribution is within one variance\n",
    "\n",
    "ans=integrate(gaussian(0,1),-1,1)\n",
    "ans"
   ]
  },
  {
   "cell_type": "code",
   "execution_count": null,
   "metadata": {},
   "outputs": [],
   "source": []
  }
 ],
 "metadata": {
  "kernelspec": {
   "display_name": "Python 3 (ipykernel)",
   "language": "python",
   "name": "python3"
  },
  "language_info": {
   "codemirror_mode": {
    "name": "ipython",
    "version": 3
   },
   "file_extension": ".py",
   "mimetype": "text/x-python",
   "name": "python",
   "nbconvert_exporter": "python",
   "pygments_lexer": "ipython3",
   "version": "3.9.6"
  }
 },
 "nbformat": 4,
 "nbformat_minor": 2
}
