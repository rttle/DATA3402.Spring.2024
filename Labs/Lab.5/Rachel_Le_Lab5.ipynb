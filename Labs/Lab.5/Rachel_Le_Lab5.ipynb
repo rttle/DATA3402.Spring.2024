{
 "cells": [
  {
   "cell_type": "markdown",
   "metadata": {},
   "source": [
    "# Lab 5\n"
   ]
  },
  {
   "cell_type": "markdown",
   "metadata": {},
   "source": [
    "Matrix Representation: In this lab you will be creating a simple linear algebra system. In memory, we will represent matrices as nested python lists as we have done in lecture. \n",
    "\n",
    "1. Create a `matrix` class with the following properties:\n",
    "    * It can be initialized in 2 ways:\n",
    "        1. with arguments `n` and `m`, the size of the matrix. A newly instanciated matrix will contain all zeros.\n",
    "        2. with a list of lists of values. Note that since we are using lists of lists to implement matrices, it is possible that not all rows have the same number of columns. Test explicitly that the matrix is properly specified.\n",
    "    * Matrix instances `M` can be indexed with `M[i][j]` and `M[i,j]`.\n",
    "    * Matrix assignment works in 2 ways:\n",
    "        1. If `M_1` and `M_2` are `matrix` instances `M_1=M_2` sets the values of `M_1` to those of `M_2`, if they are the same size. Error otherwise.\n",
    "        2. In example above `M_2` can be a list of lists of correct size.\n"
   ]
  },
  {
   "cell_type": "markdown",
   "metadata": {},
   "source": [
    "2. Add the following methods:\n",
    "    * `shape()`: returns a tuple `(n,m)` of the shape of the matrix.\n",
    "    * `transpose()`: returns a new matrix instance which is the transpose of the matrix.\n",
    "    * `row(n)` and `column(n)`: that return the nth row or column of the matrix M as a new appropriately shaped matrix object.\n",
    "    * `to_list()`: which returns the matrix as a list of lists.\n",
    "    *  `block(n_0,n_1,m_0,m_1)` that returns a smaller matrix located at the n_0 to n_1 columns and m_0 to m_1 rows. \n",
    "    * (Extra credit) Modify `__getitem__` implemented above to support slicing.\n",
    "        "
   ]
  },
  {
   "cell_type": "markdown",
   "metadata": {},
   "source": [
    "3. Write functions that create special matrices (note these are standalone functions, not member functions of your `matrix` class):\n",
    "    * `constant(n,m,c)`: returns a `n` by `m` matrix filled with floats of value `c`.\n",
    "    * `zeros(n,m)` and `ones(n,m)`: return `n` by `m` matrices filled with floats of value `0` and `1`, respectively.\n",
    "    * `eye(n)`: returns the n by n identity matrix."
   ]
  },
  {
   "cell_type": "markdown",
   "metadata": {},
   "source": [
    "4. Add the following member functions to your class. Make sure to appropriately test the dimensions of the matrices to make sure the operations are correct.\n",
    "    * `M.scalarmul(c)`: a matrix that is scalar product $cM$, where every element of $M$ is multiplied by $c$.\n",
    "    * `M.add(N)`: adds two matrices $M$ and $N$. Don’t forget to test that the sizes of the matrices are compatible for this and all other operations.\n",
    "    * `M.sub(N)`: subtracts two matrices $M$ and $N$.\n",
    "    * `M.mat_mult(N)`: returns a matrix that is the matrix product of two matrices $M$ and $N$.\n",
    "    * `M.element_mult(N)`: returns a matrix that is the element-wise product of two matrices $M$ and $N$.\n",
    "    * `M.equals(N)`: returns true/false if $M==N$."
   ]
  },
  {
   "cell_type": "markdown",
   "metadata": {},
   "source": [
    "5. Overload python operators to appropriately use your functions in 4 and allow expressions like:\n",
    "    * 2*M\n",
    "    * M*2\n",
    "    * M+N\n",
    "    * M-N\n",
    "    * M*N\n",
    "    * M==N\n",
    "    * M=N\n"
   ]
  },
  {
   "cell_type": "markdown",
   "metadata": {},
   "source": [
    "6. Demonstrate the basic properties of matrices with your matrix class by creating two 2 by 2 example matrices using your Matrix class and illustrating the following:\n",
    "\n",
    "$$\n",
    "(AB)C=A(BC)\n",
    "$$\n",
    "$$\n",
    "A(B+C)=AB+AC\n",
    "$$\n",
    "$$\n",
    "AB\\neq BA\n",
    "$$\n",
    "$$\n",
    "AI=A\n",
    "$$"
   ]
  },
  {
   "cell_type": "code",
   "execution_count": 64,
   "metadata": {},
   "outputs": [],
   "source": [
    "class matrix:\n",
    "    def __init__(self,n=None,m=None,matr=None): #where matr is a list of lists (matrix)\n",
    "        self.n=n\n",
    "        self.m=m\n",
    "        self.matr=matr\n",
    "\n",
    "        if self.matr is None: self.M=[[0 for j in range(self.m)] for i in range(self.n)]\n",
    "        if self.n is None and self.m is None: \n",
    "            self.M=self.matr\n",
    "            self.n=len(self.matr)\n",
    "            self.m=len(self.matr[0])\n",
    "\n",
    "    #making len() work on matrix class\n",
    "    def __len__(self):\n",
    "        return len(self.M)\n",
    "\n",
    "    #indexing function that allows M[i][j] and M[i,j]\n",
    "    def __getitem__(self,key):\n",
    "        if isinstance(key,tuple):\n",
    "            i,j=key\n",
    "            return self.M[i][j]\n",
    "        if isinstance(key,slice):\n",
    "            pass\n",
    "        else:\n",
    "            i=key\n",
    "            return self.M[key]\n",
    "\n",
    "        \n",
    "    #Matrix assignment\n",
    "    def assignment(self,M_2):\n",
    "        if len(self.M)==len(M_2) and len(self.m)==len(M_2[0]):\n",
    "            self.M=[[M_2[i][j] for j in range(self.m)] for i in range(self.n)]\n",
    "            return self.M\n",
    "        else:\n",
    "            ValueError\n",
    "\n",
    "    #shape function\n",
    "    def shape(self):\n",
    "        return (self.n,self.m)\n",
    "    \n",
    "    #transpose function\n",
    "    def transpose(self):\n",
    "        T=[[]]\n",
    "        for i in range(self.n):\n",
    "            for j in range(self.m):\n",
    "                T[i][j]=self.M[j][i]\n",
    "        return T\n",
    "\n",
    "    #call specified row function\n",
    "    def row(self,row_num):\n",
    "        return self.M[row_num]\n",
    "\n",
    "    #call specified column function\n",
    "    def column(self,col_num):\n",
    "        col=[]\n",
    "        for i in range(self.n):\n",
    "            entry=self.M[i][col_num]\n",
    "            col.append(entry)\n",
    "        return col\n",
    "\n",
    "    #Matrix as list of lists\n",
    "    def to_list(self):\n",
    "        return self.M\n",
    "    \n",
    "    #smaller matrix block function\n",
    "    def block(self,n_0,n_1,m_0,m_1):\n",
    "        b=[[]]\n",
    "        for i in range(n_0,n_1):\n",
    "            for j in range(m_0,m_1):\n",
    "                b[i][j]=self.M[i][j]\n",
    "        return b\n",
    "\n",
    "    #start of Question 4 member functions\n",
    "    #Scalar product\n",
    "    def scalarmul(self,c):\n",
    "        s=[[c*self.M[i][j] for j in range(self.m)] for i in range(self.n)]\n",
    "        scalar_m=matrix(matr=s)\n",
    "        return scalar_m\n",
    "    \n",
    "    #addition of matrices\n",
    "    def add(self,N):\n",
    "        a=[[self.M[i][j]+N[i][j] for j in range(self.m)] for i in range(self.n)]\n",
    "        add_m=matrix(matr=a)\n",
    "        return add_m\n",
    "\n",
    "    #subtraction of matrices\n",
    "    def sub(self,N):\n",
    "        sub=[[self.M[i][j]-N[i][j] for j in range(self.m)] for i in range(self.n)]\n",
    "        sub_m=matrix(matr=sub)\n",
    "        return sub_m\n",
    "\n",
    "    #Matrix product\n",
    "    def mat_mult(self,N):\n",
    "        if self.m==len(N):\n",
    "            result_M=[[0 for j in range(len(N[0]))] for i in range(self.n)]\n",
    "            for k in range(self.n):\n",
    "                for l in range(len(N[0])):\n",
    "                    for z in range(self.m):\n",
    "                        result_M[k][l]+=self.M[k][z]*N[z][l]\n",
    "            r_M=matrix(matr=result_M)\n",
    "            return r_M\n",
    "        else:\n",
    "            return False\n",
    "\n",
    "    #Element-wise product\n",
    "    def element_mult(self,N):\n",
    "        elprod=[[self.M[i][j]*N[i][j] for j in range(self.m)] for i in range(self.n)]\n",
    "        el_M=matrix(matr=elprod)\n",
    "        return el_M\n",
    "\n",
    "    #Equal matrices\n",
    "    def equals(self,N):\n",
    "        if ((self.M[i][j]==N[i][j] for j in range(self.m)) for i in range(self.n)):\n",
    "            return True\n",
    "        else:\n",
    "            return False\n",
    "\n",
    "    # Question 5: overload python operators\n",
    "    def __mul__(self,other):\n",
    "        #matrix multiplication\n",
    "        if isinstance(other, matrix):\n",
    "            return self.mat_mult(other)\n",
    "        #scalar multiplication\n",
    "        if isinstance(other,(int,float)):\n",
    "            return self.scalarmul(other)\n",
    "\n",
    "    def __add__(self,other):\n",
    "        if isinstance(other, matrix):\n",
    "            return self.add(other)\n",
    "\n",
    "    def __sub__(self,other):\n",
    "        if isinstance(other, matrix):\n",
    "            return self.sub(other)\n",
    "\n",
    "    def __eq__(self,other):\n",
    "        if isinstance(other, matrix):\n",
    "            return self.equals(other)\n",
    "    \n",
    "    def __assign__(self,other):\n",
    "        if isinstance(other,matrix):\n",
    "            return self.assignment(other)\n",
    "        \n",
    "    def __str__(self):\n",
    "        return str(self.M)\n",
    "    \n",
    "    __repr__=__str__"
   ]
  },
  {
   "cell_type": "code",
   "execution_count": 65,
   "metadata": {},
   "outputs": [],
   "source": [
    "#Standalone functions as specified in Question 3\n",
    "\n",
    "# nxm matrix filled with a specified value 'c'\n",
    "def constant(n,m,c):\n",
    "    if not isinstance(c,float):\n",
    "        float(c)\n",
    "    M=[[c for j in range(m)] for i in range(n)]\n",
    "    return M\n",
    "\n",
    "# nxm matrix filled with zeros\n",
    "def zeros(n,m):\n",
    "    M=[[0 for j in range(m)] for i in range(n)]\n",
    "    return M\n",
    "\n",
    "# nxm matrix filled with ones\n",
    "def ones(n,m):\n",
    "    M=[[1 for j in range(m)] for i in range(n)]\n",
    "    return M\n",
    "\n",
    "#identity matrix\n",
    "def eye(n):\n",
    "    M=[[1 if i==j else 0 for j in range(n)] for i in range(n)]\n",
    "    return M\n"
   ]
  },
  {
   "cell_type": "code",
   "execution_count": 66,
   "metadata": {},
   "outputs": [
    {
     "name": "stdout",
     "output_type": "stream",
     "text": [
      "[[38, 44], [86, 100]]\n",
      "[[38, 44], [86, 100]]\n"
     ]
    },
    {
     "data": {
      "text/plain": [
       "True"
      ]
     },
     "execution_count": 66,
     "metadata": {},
     "output_type": "execute_result"
    }
   ],
   "source": [
    "#Question 6: testing matrix class\n",
    "A=matrix(matr=[[1,2],[3,4]])\n",
    "B=matrix(matr=[[5,6],[7,8]])\n",
    "C=2\n",
    "\n",
    "#(AB)C = A(BC)\n",
    "sol1=(A*B)*C\n",
    "sol2=A*(B*C)\n",
    "print(sol1)\n",
    "print(sol2)\n",
    "sol1==sol2\n"
   ]
  },
  {
   "cell_type": "code",
   "execution_count": 67,
   "metadata": {},
   "outputs": [
    {
     "name": "stdout",
     "output_type": "stream",
     "text": [
      "[[25, 28], [57, 64]]\n",
      "[[25, 28], [57, 64]]\n"
     ]
    },
    {
     "data": {
      "text/plain": [
       "True"
      ]
     },
     "execution_count": 67,
     "metadata": {},
     "output_type": "execute_result"
    }
   ],
   "source": [
    "#A(B+C) = AB + AC\n",
    "C_matrix=matrix(matr=constant(2,2,2))\n",
    "sol3=A*(B+C_matrix)\n",
    "sol4=(A*B)+(A*C_matrix)\n",
    "print(sol3)\n",
    "print(sol4)\n",
    "sol3==sol4\n"
   ]
  },
  {
   "cell_type": "code",
   "execution_count": 76,
   "metadata": {},
   "outputs": [
    {
     "name": "stdout",
     "output_type": "stream",
     "text": [
      "[[19, 22], [43, 50]]\n",
      "[[23, 34], [31, 46]]\n"
     ]
    }
   ],
   "source": [
    "#AB != BA\n",
    "sol5=A*B\n",
    "sol6=B*A\n",
    "print(sol5)\n",
    "print(sol6)\n"
   ]
  },
  {
   "cell_type": "code",
   "execution_count": 59,
   "metadata": {},
   "outputs": [
    {
     "name": "stdout",
     "output_type": "stream",
     "text": [
      "[[1, 2], [3, 4]]\n",
      "[[1, 2], [3, 4]]\n"
     ]
    },
    {
     "data": {
      "text/plain": [
       "True"
      ]
     },
     "execution_count": 59,
     "metadata": {},
     "output_type": "execute_result"
    }
   ],
   "source": [
    "#AI=A\n",
    "I=matrix(matr=eye(2))\n",
    "sol7=A*I\n",
    "print(sol7)\n",
    "print(A)\n",
    "sol7==A"
   ]
  },
  {
   "cell_type": "code",
   "execution_count": null,
   "metadata": {},
   "outputs": [],
   "source": []
  }
 ],
 "metadata": {
  "kernelspec": {
   "display_name": "Python 3 (ipykernel)",
   "language": "python",
   "name": "python3"
  },
  "language_info": {
   "codemirror_mode": {
    "name": "ipython",
    "version": 3
   },
   "file_extension": ".py",
   "mimetype": "text/x-python",
   "name": "python",
   "nbconvert_exporter": "python",
   "pygments_lexer": "ipython3",
   "version": "3.12.1"
  }
 },
 "nbformat": 4,
 "nbformat_minor": 2
}
