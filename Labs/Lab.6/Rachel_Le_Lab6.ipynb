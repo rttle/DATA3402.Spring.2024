{
 "cells": [
  {
   "cell_type": "markdown",
   "metadata": {},
   "source": [
    "# Lab 5"
   ]
  },
  {
   "cell_type": "markdown",
   "metadata": {},
   "source": [
    "You are tasked with evaluating card counting strategies for black jack. In order to do so, you will use object oriented programming to create a playable casino style black jack game where a computer dealer plays against $n$ computer players and possibily one human player. If you don't know the rules of blackjack or card counting, please google it. \n",
    "\n",
    "A few requirements:\n",
    "* The game should utilize multiple 52-card decks. Typically the game is played with 6 decks.\n",
    "* Players should have chips.\n",
    "* Dealer's actions are predefined by rules of the game (typically hit on 16). \n",
    "* The players should be aware of all shown cards so that they can count cards.\n",
    "* Each player could have a different strategy.\n",
    "* The system should allow you to play large numbers of games, study the outcomes, and compare average winnings per hand rate for different strategies."
   ]
  },
  {
   "cell_type": "markdown",
   "metadata": {},
   "source": [
    "1. Begin by creating a classes to represent cards and decks. The deck should support more than one 52-card set. The deck should allow you to shuffle and draw cards. Include a \"plastic\" card, placed randomly in the deck. Later, when the plastic card is dealt, shuffle the cards before the next deal."
   ]
  },
  {
   "cell_type": "markdown",
   "metadata": {},
   "source": [
    "2. Now design your game on a UML diagram. You may want to create classes to represent, players, a hand, and/or the game. As you work through the lab, update your UML diagram. At the end of the lab, submit your diagram (as pdf file) along with your notebook. "
   ]
  },
  {
   "cell_type": "markdown",
   "metadata": {},
   "source": [
    "3. Begin with implementing the skeleton (ie define data members and methods/functions, but do not code the logic) of the classes in your UML diagram."
   ]
  },
  {
   "cell_type": "markdown",
   "metadata": {},
   "source": [
    "4. Complete the implementation by coding the logic of all functions. For now, just implement the dealer player and human player."
   ]
  },
  {
   "cell_type": "markdown",
   "metadata": {},
   "source": [
    "5.  Test. Demonstrate game play. For example, create a game of several dealer players and show that the game is functional through several rounds."
   ]
  },
  {
   "cell_type": "markdown",
   "metadata": {},
   "source": [
    "6. Implement a new player with the following strategy:\n",
    "\n",
    "    * Assign each card a value: \n",
    "        * Cards 2 to 6 are +1 \n",
    "        * Cards 7 to 9 are 0 \n",
    "        * Cards 10 through Ace are -1\n",
    "    * Compute the sum of the values for all cards seen so far.\n",
    "    * Hit if sum is very negative, stay if sum is very positive. Select a threshold for hit/stay, e.g. 0 or -2.  "
   ]
  },
  {
   "cell_type": "markdown",
   "metadata": {},
   "source": [
    "7. Create a test scenario where one player, using the above strategy, is playing with a dealer and 3 other players that follow the dealer's strategy. Each player starts with same number of chips. Play 50 rounds (or until the strategy player is out of money). Compute the strategy player's winnings. You may remove unnecessary printouts from your code (perhaps implement a verbose/quiet mode) to reduce the output."
   ]
  },
  {
   "cell_type": "markdown",
   "metadata": {},
   "source": [
    "8. Create a loop that runs 100 games of 50 rounds, as setup in previous question, and store the strategy player's chips at the end of the game (aka \"winnings\") in a list. Histogram the winnings. What is the average winnings per round? What is the standard deviation. What is the probabilty of net winning or lossing after 50 rounds?\n"
   ]
  },
  {
   "cell_type": "markdown",
   "metadata": {},
   "source": [
    "9. Repeat previous questions scanning the value of the threshold. Try at least 5 different threshold values. Can you find an optimal value?"
   ]
  },
  {
   "cell_type": "markdown",
   "metadata": {},
   "source": [
    "10. Create a new strategy based on web searches or your own ideas. Demonstrate that the new strategy will result in increased or decreased winnings. "
   ]
  },
  {
   "cell_type": "markdown",
   "metadata": {},
   "source": [
    "Rachel's notes; free to ignore\n",
    "\n",
    "Rules from: https://bicyclecards.com/how-to-play/blackjack/\n",
    "\n",
    "Blackjack\n",
    "- as close to 21 without going over 21\n",
    "- Betting\n",
    "    - place bets before deal begins\n",
    "    - minimum and maximum limits (GR: $2-$500)\n",
    "    - will ignore splitting pairs (player will not get option to split pairs)\n",
    "    - will ignore insurance and doubling down\n",
    "    - if dealer goes over 21, each player that has stood is paid their bet\n",
    "    - if dealer at 21 or less, pays the bet of any player having a higher total and collects from those with a lower total\n",
    "        - if dealer and player have equal total, no pay/collection\n",
    "\n",
    "Game\n",
    "- to start each player + dealer is given one card faced up, then a second card face up to each player, but dealer gets their second card face down\n",
    "- stand/hit\n",
    "    - if bust (over 21), dealer collects the bet wagered\n",
    "    - Ace can either count as 1 or 11 depending on the player's hand\n",
    "- Dealer's play\n",
    "    - once all players have been served by the dealer, the dealer's face down card is turned up\n",
    "    - Rule: hit when <=16\n",
    "- drawing plastic card results in shuffling"
   ]
  },
  {
   "cell_type": "code",
   "execution_count": 1,
   "metadata": {},
   "outputs": [],
   "source": [
    "import numpy as np"
   ]
  },
  {
   "cell_type": "code",
   "execution_count": 17,
   "metadata": {},
   "outputs": [],
   "source": [
    "#function to mute/allow print commands\n",
    "def print_message(message,verbose=True):\n",
    "    if verbose:\n",
    "        print(message)"
   ]
  },
  {
   "cell_type": "code",
   "execution_count": 16,
   "metadata": {},
   "outputs": [],
   "source": [
    "import numpy as np\n",
    "import random\n",
    "\n",
    "class cards():\n",
    "    def __init__(self,suit,value):\n",
    "        self.__suit=suit\n",
    "        self.__value=value\n",
    "    \n",
    "    #accessors\n",
    "    def suit(self):\n",
    "        return self.__suit\n",
    "    \n",
    "    def value(self):\n",
    "        return self.__value\n",
    "    \n",
    "    def show_card(self):\n",
    "        print(self.__suit, self.__value)\n",
    "\n",
    "    def __str__(self):\n",
    "        return str((self.__suit,self.__value))\n",
    "    \n",
    "    __repr__=__str__\n",
    "\n",
    "class game_deck():\n",
    "    def __init__(self,n): #where n is the number of decks\n",
    "        self.__n=n\n",
    "        self.__deck=[] #list to represent game deck\n",
    "        self.plastic=cards('plastic','plastic') #plastic card to be inserted into game deck\n",
    "\n",
    "        #making game deck\n",
    "        suits=['Clubs','Diamonds','Hearts','Spades']\n",
    "        face_cards=['Jack','Queen','King','Ace']\n",
    "\n",
    "        #add n number of decks to the deck list\n",
    "        for l in range(self.__n):\n",
    "            for i in range(4): #loop so that cards are added for each suit\n",
    "                #adding numbered cards\n",
    "                for j in range(2,11): self.__deck.append(cards(suits[i],j)) \n",
    "                #adding face cards\n",
    "                for k in range(4): self.__deck.append(cards(suits[i],face_cards[k]))\n",
    "\n",
    "        #adding plastic card\n",
    "        self.__deck.append(self.plastic)\n",
    "\n",
    "    def __getitem__(self,key):\n",
    "        return self.__deck[key]\n",
    "    \n",
    "    #method to shuffle deck\n",
    "    def shuffledeck(self):\n",
    "        self.__deck=random.sample(self.__deck,len(self.__deck)) #take a random sample of full length of deck, aka shuffling all cards in deck\n",
    "        return self.__deck\n",
    "    \n",
    "    def draw(self):\n",
    "        #top card is first card in list\n",
    "        top_card=self.__deck[0]\n",
    "        #shuffle if card is the plastic card\n",
    "        if top_card==self.plastic:\n",
    "            self.__deck=self.shuffledeck() #if plastic card is drawn, shuffle deck\n",
    "            return self.draw() #draw new top card\n",
    "        else:\n",
    "            return top_card\n",
    "\n",
    "    #removal of card\n",
    "    def remove(self,card):\n",
    "        return self.__deck.remove(card)"
   ]
  },
  {
   "cell_type": "code",
   "execution_count": 3,
   "metadata": {},
   "outputs": [
    {
     "name": "stdout",
     "output_type": "stream",
     "text": [
      "Spades 10\n",
      "Spades 10\n"
     ]
    }
   ],
   "source": [
    "#testing card class\n",
    "c=cards('Spades',10)\n",
    "print(c.suit(),c.value())\n",
    "c.show_card()"
   ]
  },
  {
   "cell_type": "code",
   "execution_count": 3,
   "metadata": {},
   "outputs": [
    {
     "name": "stdout",
     "output_type": "stream",
     "text": [
      "('Clubs', 2)\n",
      "('Clubs', 2)\n",
      "\n"
     ]
    },
    {
     "data": {
      "text/plain": [
       "('Diamonds', 3)"
      ]
     },
     "execution_count": 3,
     "metadata": {},
     "output_type": "execute_result"
    }
   ],
   "source": [
    "#testing deck class\n",
    "d=game_deck(2)\n",
    "\n",
    "#checking that first card is what is drawn\n",
    "print(d[0])\n",
    "print(d.draw())\n",
    "print() #for visual space\n",
    "\n",
    "#checking shuffle\n",
    "shuf=d.shuffledeck()\n",
    "shuf[0]"
   ]
  },
  {
   "cell_type": "code",
   "execution_count": 18,
   "metadata": {},
   "outputs": [],
   "source": [
    "#Classes to represent players (human, dealer, set strategy)\n",
    "\n",
    "class Player():\n",
    "    def __init__(self,name,hand=[],chips=1000,total=0,bet=0,known=[],hidden=[]):\n",
    "        self.__name=name #name used to identify in print outputs\n",
    "        self.__hand=hand #cards in player's hand\n",
    "        self.__chips=chips #arbitrary amount that I decided players will start with\n",
    "        self.__total=total\n",
    "        self.__bet=bet\n",
    "        self.__known=known\n",
    "        self.__hidden=hidden\n",
    "    \n",
    "    #method for getting sum of values of player's hand\n",
    "    def hand_total(self):\n",
    "        #iterating through all cards in hand\n",
    "        for card in self.__hand:\n",
    "            #adding value of card if numbered card\n",
    "            if isinstance(card.value(),int):\n",
    "                self.__total+=card.value()\n",
    "            #adding value of card if face card\n",
    "            elif isinstance(card.value(),str):\n",
    "                #Jack, Queen, King = 10\n",
    "                if card.value()!='Ace':\n",
    "                    self.__total+=10\n",
    "                #Ace value determination\n",
    "                else:\n",
    "                    #if hand is less than 11, than Ace=11 will not bust hand, so value Ace as 11\n",
    "                    if self.__total<11:\n",
    "                        self.__total+=11\n",
    "                    #otherwise Ace should equal 1 to prevent busting hand\n",
    "                    else:\n",
    "                        self.__total+=1\n",
    "        return self.__total\n",
    "    \n",
    "    #accessors\n",
    "    def name(self):\n",
    "        return self.__name\n",
    "    \n",
    "    def player_hand(self):\n",
    "        return self.__hand\n",
    "    \n",
    "    def player_chips(self):\n",
    "        return self.__chips\n",
    "    \n",
    "    def player_bet(self):\n",
    "        return self.__bet\n",
    "    \n",
    "    def known(self):\n",
    "        return self.__known\n",
    "    \n",
    "    def hidden(self):\n",
    "        return self.__hidden\n",
    "\n",
    "    #methods to be overwritten by child class (if necessary)\n",
    "\n",
    "    #method to give each player their initial hand at beginning of round\n",
    "    def initial_hand(self,deck):\n",
    "        for i in range(2): #gives players two cards face up\n",
    "            card=deck.draw() #draw top card from deck\n",
    "            self.__hand.append(card) #add card to player's hand\n",
    "            self.__known.append(card) #adding cards drawn into list that represents what cards are known\n",
    "            deck.remove(card) #remove card from game deck\n",
    "\n",
    "    #method for what a player is to do when it comes to betting, unless overwritten\n",
    "    def betting(self):\n",
    "        player_bet=5 #default betting for Player child classes\n",
    "        if self.__chips-player_bet<0:\n",
    "            print(f'{self.__name} is out of chips')\n",
    "        else:\n",
    "            return player_bet\n",
    "    \n",
    "    #method to be overwritten by child classes\n",
    "    def player_move(self):\n",
    "        raise NotImplementedError\n",
    "    \n",
    "    #method to determine if a player wins/loses bet\n",
    "    def pay_or_collect(self,dealer,verbose):\n",
    "        #collects bet if player busts\n",
    "        if self.__total>21:\n",
    "            self.__chips-=self.__bet\n",
    "        #player payed if (player total>dealer total) or (dealer bust and player<21)\n",
    "        elif (self.__total>dealer.hand_total()) or (dealer.hand_total()>21 and self.__total<=21):\n",
    "                self.__chips+=self.__bet\n",
    "        #note: no chips paid/collected if player total = dealer total\n",
    "        #print out players' chip status\n",
    "        print_message(f'{self.__name} chips: {self.__chips}',verbose)\n",
    "\n",
    "    #method for resetting players between rounds\n",
    "    def reset(self):\n",
    "        self.__hand=[] \n",
    "        self.__total=0\n",
    "        self.__bet=0\n",
    "        #self.__known=[]\n",
    "        #self.__hidden=[]\n",
    "    \n",
    "class Dealer(Player):\n",
    "    def __init__(self,name,hand=[],chips=1000,total=0,bet=0,known=[],hidden=[]):\n",
    "        Player.__init__(self,name,hand=[],chips=1000,total=0,bet=0,known=[],hidden=[])\n",
    "\n",
    "    #overriding parent method\n",
    "    def initial_hand(self,deck):\n",
    "        for i in range(2):\n",
    "            #add card face up for dealer first time around\n",
    "            if i==0:\n",
    "                card=deck.draw()\n",
    "                self.player_hand().append(card)\n",
    "                self.known().append(card)\n",
    "                deck.remove(card)\n",
    "            #add card face down for dealer the second time around\n",
    "            else:\n",
    "                card=deck.draw()\n",
    "                self.player_hand().append(card)\n",
    "                self.hidden().append(card) #add face down card to hidden list that represents cards drawn that are not known to players\n",
    "                deck.remove(card)\n",
    "\n",
    "    #method that determines dealer/dealer-style player's strategy\n",
    "    def player_move(self,deck):\n",
    "        #dealer hits on 16\n",
    "        if self.hand_total()<17:\n",
    "            new_card=deck.draw()\n",
    "            self.player_hand().append(new_card)\n",
    "            self.known().append(new_card)\n",
    "        else:\n",
    "            return 'stood' #output used for looping in game function further down\n",
    "\n",
    "class Human(Player):\n",
    "    def __init__(self,name,hand=[],chips=1000,total=0,bet=0,known=[],hidden=[]):\n",
    "        Player.__init__(self,name,hand=[],chips=1000,total=0,bet=0,known=[],hidden=[])\n",
    "\n",
    "    #overriding method, ask for user to input amount they want to bet\n",
    "    def betting(self):\n",
    "        hbet=int(input('Bet amount (min: 1, max: 500): ')) #arbitrary min/max chosen\n",
    "        while self.player_chips()-hbet<0 or hbet>500 or hbet<1:\n",
    "            hbet=int(input('Bet amount (min: 1, max: 500): ')) #if user does not follow min/max; keep asking for input\n",
    "        return hbet\n",
    "\n",
    "    #overriding method, ask user for input to make move hit/stand\n",
    "    def player_move(self,deck):\n",
    "        #ask to hit or stand to user\n",
    "        hmove=input('Hit or stand? ')\n",
    "        hmove.lower() #make input uniform (all lowercase) for code to understand\n",
    "\n",
    "        #if user says 'hit' draw card and add to player's hand and to known list of cards\n",
    "        if hmove=='hit':\n",
    "            new_card=deck.draw()\n",
    "            self.player_hand().append(new_card)\n",
    "            self.known().append(new_card)\n",
    "        else:\n",
    "            return 'stood'\n",
    "\n",
    "class Q6Player(Player):\n",
    "    def __init__(self,name,hand=[],chips=1000,total=0,bet=0,known=[],hidden=[]):\n",
    "        Player.__init__(self,name,hand=[],chips=1000,total=0,bet=0,known=[],hidden=[])\n",
    "\n",
    "    #no betting function, will just use default in parent class\n",
    "\n",
    "    #method that gives numerical value to represent strategy\n",
    "    def card_counting(self,knowncards):\n",
    "        #initial start with 0 value\n",
    "        comp=0\n",
    "\n",
    "        #iterating through knowncards and summing values\n",
    "        for card in knowncards: #iterating through all known cards\n",
    "            if isinstance(card,int):\n",
    "                #adding\n",
    "                if card.value()<7 and card.value()>=2:\n",
    "                    comp+=1 #add one if card less than 7 and greater than or equal to 2\n",
    "                elif card.value()<10 and card.value()>=7:\n",
    "                    comp+=0 #no change when cards are less than 10 and greater than or equal to 7\n",
    "            else:\n",
    "                comp+=-1 #subtract 1 in all other instances (10,Jack,Queen,King,Ace)\n",
    "        \n",
    "        #computated sum returned as output to be used to hit/stand\n",
    "        return comp\n",
    "    \n",
    "    #overriding method and implementing the strategy method above\n",
    "    def player_move(self,deck):    \n",
    "        #Question 6 strat; threshold chosen = -3\n",
    "        if self.card_counting(self.known())<-3: #low number indicates multiple high numerical value cards were played, player less likely to bust\n",
    "            new_card=deck.draw()\n",
    "            self.player_hand().append(new_card)\n",
    "            self.known().append(new_card)\n",
    "        else:\n",
    "            return 'stood'\n"
   ]
  },
  {
   "cell_type": "code",
   "execution_count": 19,
   "metadata": {},
   "outputs": [],
   "source": [
    "#class to represent all the data held within a game of blackjack\n",
    "class Blackjack():\n",
    "    def __init__(self,number_decks,rounds,players):\n",
    "        self.__number_decks=number_decks\n",
    "        self.__rounds=rounds\n",
    "        self.__players=players #players should be a list of Player objects\n",
    "        self.__dealer=Dealer('The Dealer')\n",
    "        self.__gamedeck=game_deck(self.__number_decks)\n",
    "\n",
    "    #accessors\n",
    "    def number_decks(self):\n",
    "        return self.__number_decks\n",
    "    \n",
    "    def players(self):\n",
    "        return self.__players\n",
    "\n",
    "    def rounds(self):\n",
    "        return self.__rounds\n",
    "    \n",
    "    def dealer(self):\n",
    "        return self.__dealer\n",
    "    \n",
    "    def gamedeck(self):\n",
    "        return self.__gamedeck\n",
    "    "
   ]
  },
  {
   "cell_type": "code",
   "execution_count": 89,
   "metadata": {},
   "outputs": [
    {
     "data": {
      "text/plain": [
       "[]"
      ]
     },
     "execution_count": 89,
     "metadata": {},
     "output_type": "execute_result"
    }
   ],
   "source": [
    "#testing Player class\n",
    "player1=Player('player1')\n",
    "player1.player_hand() #should return empty list\n"
   ]
  },
  {
   "cell_type": "code",
   "execution_count": 90,
   "metadata": {},
   "outputs": [
    {
     "name": "stdout",
     "output_type": "stream",
     "text": [
      "0\n",
      "0\n",
      "1000\n"
     ]
    }
   ],
   "source": [
    "#testing Player class continued; all should reflect initialization numbers\n",
    "print(player1.hand_total()) \n",
    "print(player1.player_bet())\n",
    "print(player1.player_chips())"
   ]
  },
  {
   "cell_type": "code",
   "execution_count": 93,
   "metadata": {},
   "outputs": [
    {
     "name": "stdout",
     "output_type": "stream",
     "text": [
      "('Clubs', 3)\n",
      "\n",
      "5\n",
      "\n",
      "[<__main__.Player object at 0x1074fe630>, <__main__.Player object at 0x1074fa3f0>]\n",
      "[]\n",
      "[]\n"
     ]
    }
   ],
   "source": [
    "#testing Blackjack class\n",
    "player2=Player('player2')\n",
    "b=Blackjack(2,5,[player1,player2])\n",
    "print(b.gamedeck()[53]) #check that gamedeck is actually two decks combined\n",
    "print()\n",
    "\n",
    "#testing rounds accessor; expecting 5\n",
    "print(b.rounds())\n",
    "print()\n",
    "\n",
    "#testing other attribute accessors, expecting list of Player class objects and empty lists\n",
    "print(b.players())\n",
    "print(b.known())\n",
    "print(b.hidden())"
   ]
  },
  {
   "cell_type": "code",
   "execution_count": 20,
   "metadata": {},
   "outputs": [],
   "source": [
    "#function that wraps all the classes to perform a game of Blackjack\n",
    "def BJGame(blackjack,verbose=True):\n",
    "    #check blackjack class\n",
    "    if not isinstance(blackjack,Blackjack):\n",
    "        TypeError\n",
    "    else: #the game initiates\n",
    "        #start at round 1\n",
    "        game_round=1\n",
    "        dk=blackjack.gamedeck() #creating game deck\n",
    "        df=dk.shuffledeck() #shuffling game deck\n",
    "\n",
    "        #looping while round count is less than the number of rounds indicated in blackjack class object\n",
    "        while game_round<=blackjack.rounds():\n",
    "            #Print out what round\n",
    "            print_message(f'Round {game_round}',verbose) #print output to show player what round it is\n",
    "\n",
    "            #set up initial hands for players/dealer (class methods called)\n",
    "            for player in blackjack.players():\n",
    "                player.initial_hand(dk)\n",
    "            blackjack.dealer().initial_hand(dk)\n",
    "\n",
    "            #betting for round (class method called)\n",
    "            for player in blackjack.players(): #iterating through all players\n",
    "                player.__bet=player.betting()\n",
    "                #initial status to allow for looping\n",
    "                stand=False\n",
    "                dstand=False\n",
    "            \n",
    "            #Round starts (actual card game)\n",
    "            #looping to allow player to continue calling hit, until they call stand\n",
    "            while stand==False:\n",
    "                for player in blackjack.players():\n",
    "                    #each player can hit, until they stand, then next player turn\n",
    "                    print_message(f'{player.name()}: {player.player_hand()}',verbose)\n",
    "                    mv=player.player_move(dk)\n",
    "                    if mv=='stood':\n",
    "                        stand=True #breaks loop for current player\n",
    "                    else:\n",
    "                        print_message(f'{player.name()}: {player.player_hand()}',verbose)\n",
    "                        mv=player.player_move(dk) #loops asking for player's move (hit/stand)\n",
    "            \n",
    "            #The Dealer's turn; same as player but for The Dealer of game\n",
    "            while dstand==False:\n",
    "                print_message(f'{blackjack.dealer().name()}: {blackjack.dealer().player_hand()}',verbose)\n",
    "                mv=blackjack.dealer().player_move(dk)\n",
    "                if mv=='stood':\n",
    "                    dstand=True\n",
    "                else:\n",
    "                    print_message(f'{blackjack.dealer().name()}: {blackjack.dealer().player_hand()}',verbose)\n",
    "                    mv=blackjack.dealer().player_move(dk)\n",
    "\n",
    "            #Round finished; bets paid/collect (call class method)\n",
    "            #iterating through all players\n",
    "            for player in blackjack.players():\n",
    "                player.pay_or_collect(blackjack.dealer(),verbose)        \n",
    "\n",
    "            #round count updated + reset\n",
    "            game_round+=1\n",
    "            for player in blackjack.players(): #iterating through all players\n",
    "                player.reset() #call reset class method\n",
    "            blackjack.dealer().reset()\n",
    "            #recollecting cards used in round + shuffle    \n",
    "            dk=blackjack.gamedeck()\n",
    "            df=dk.shuffledeck()\n",
    "\n",
    "        print_message('Blackjack game ended',verbose)\n",
    "        \n",
    "        results=[] #empty list to hold players chip count at end of game\n",
    "        for player in blackjack.players():\n",
    "            results.append(player.player_chips())\n",
    "        #printing players' results (chips left at end of game)\n",
    "        return results\n",
    "\n"
   ]
  },
  {
   "cell_type": "code",
   "execution_count": 7,
   "metadata": {},
   "outputs": [
    {
     "name": "stdout",
     "output_type": "stream",
     "text": [
      "Round 1\n",
      "p1: [('Diamonds', 'King'), ('Diamonds', 3)]\n",
      "p1: [('Diamonds', 'King'), ('Diamonds', 3), ('Clubs', 2)]\n",
      "p2-dealer: [('Clubs', 3), ('Spades', 3)]\n",
      "p2-dealer: [('Clubs', 3), ('Spades', 3), ('Clubs', 2)]\n",
      "p3-dealer: [('Spades', 9), ('Hearts', 2)]\n",
      "p3-dealer: [('Spades', 9), ('Hearts', 2), ('Clubs', 2)]\n",
      "p1: [('Diamonds', 'King'), ('Diamonds', 3), ('Clubs', 2)]\n",
      "p2-dealer: [('Clubs', 3), ('Spades', 3), ('Clubs', 2), ('Clubs', 2)]\n",
      "p3-dealer: [('Spades', 9), ('Hearts', 2), ('Clubs', 2)]\n",
      "The Dealer: [('Hearts', 8), ('Clubs', 6)]\n",
      "The Dealer: [('Hearts', 8), ('Clubs', 6), ('Clubs', 2)]\n",
      "The Dealer: [('Hearts', 8), ('Clubs', 6), ('Clubs', 2)]\n",
      "p1 chips: 1000\n",
      "p2-dealer chips: 1000\n",
      "p3-dealer chips: 1000\n",
      "Round 2\n",
      "p1: [('Spades', 6), ('Clubs', 4)]\n",
      "p1: [('Spades', 6), ('Clubs', 4), ('Hearts', 3)]\n",
      "p2-dealer: [('Clubs', 5), ('Diamonds', 5)]\n",
      "p2-dealer: [('Clubs', 5), ('Diamonds', 5), ('Hearts', 3)]\n",
      "p3-dealer: [('Diamonds', 5), ('Clubs', 9)]\n",
      "p3-dealer: [('Diamonds', 5), ('Clubs', 9), ('Hearts', 3)]\n",
      "p1: [('Spades', 6), ('Clubs', 4), ('Hearts', 3), ('Hearts', 3)]\n",
      "p1: [('Spades', 6), ('Clubs', 4), ('Hearts', 3), ('Hearts', 3), ('Hearts', 3)]\n",
      "p2-dealer: [('Clubs', 5), ('Diamonds', 5), ('Hearts', 3)]\n",
      "p3-dealer: [('Diamonds', 5), ('Clubs', 9), ('Hearts', 3)]\n",
      "The Dealer: [('Diamonds', 10), ('Diamonds', 9)]\n",
      "p1 chips: 1000\n",
      "p2-dealer chips: 1000\n",
      "p3-dealer chips: 1000\n",
      "Blackjack game ended\n"
     ]
    },
    {
     "data": {
      "text/plain": [
       "[1000, 1000, 1000]"
      ]
     },
     "execution_count": 7,
     "metadata": {},
     "output_type": "execute_result"
    }
   ],
   "source": [
    "#testing with one human player and two dealer players\n",
    "p1=Human('p1')\n",
    "p2=Dealer('p2-dealer')\n",
    "p3=Dealer('p3-dealer')\n",
    "players_list=[p1,p2,p3]\n",
    "\n",
    "game=Blackjack(6,2,players_list)\n",
    "BJGame(game)"
   ]
  },
  {
   "cell_type": "code",
   "execution_count": 21,
   "metadata": {},
   "outputs": [
    {
     "ename": "RecursionError",
     "evalue": "maximum recursion depth exceeded",
     "output_type": "error",
     "traceback": [
      "\u001b[0;31m---------------------------------------------------------------------------\u001b[0m",
      "\u001b[0;31mRecursionError\u001b[0m                            Traceback (most recent call last)",
      "Cell \u001b[0;32mIn[21], line 9\u001b[0m\n\u001b[1;32m      6\u001b[0m plist\u001b[38;5;241m=\u001b[39m[sp1,sp2,sp3,sp4]\n\u001b[1;32m      8\u001b[0m q6_game\u001b[38;5;241m=\u001b[39mBlackjack(\u001b[38;5;241m6\u001b[39m,\u001b[38;5;241m50\u001b[39m,plist)\n\u001b[0;32m----> 9\u001b[0m \u001b[43mBJGame\u001b[49m\u001b[43m(\u001b[49m\u001b[43mq6_game\u001b[49m\u001b[43m,\u001b[49m\u001b[43mverbose\u001b[49m\u001b[38;5;241;43m=\u001b[39;49m\u001b[38;5;28;43;01mFalse\u001b[39;49;00m\u001b[43m)\u001b[49m\n",
      "Cell \u001b[0;32mIn[20], line 18\u001b[0m, in \u001b[0;36mBJGame\u001b[0;34m(blackjack, verbose)\u001b[0m\n\u001b[1;32m     16\u001b[0m \u001b[38;5;66;03m#set up initial hands for players/dealer\u001b[39;00m\n\u001b[1;32m     17\u001b[0m \u001b[38;5;28;01mfor\u001b[39;00m player \u001b[38;5;129;01min\u001b[39;00m blackjack\u001b[38;5;241m.\u001b[39mplayers():\n\u001b[0;32m---> 18\u001b[0m     \u001b[43mplayer\u001b[49m\u001b[38;5;241;43m.\u001b[39;49m\u001b[43minitial_hand\u001b[49m\u001b[43m(\u001b[49m\u001b[43mdk\u001b[49m\u001b[43m)\u001b[49m\n\u001b[1;32m     19\u001b[0m blackjack\u001b[38;5;241m.\u001b[39mdealer()\u001b[38;5;241m.\u001b[39minitial_hand(dk)\n\u001b[1;32m     21\u001b[0m \u001b[38;5;66;03m#betting for round\u001b[39;00m\n",
      "Cell \u001b[0;32mIn[18], line 90\u001b[0m, in \u001b[0;36mDealer.initial_hand\u001b[0;34m(self, deck)\u001b[0m\n\u001b[1;32m     87\u001b[0m \u001b[38;5;28;01mfor\u001b[39;00m i \u001b[38;5;129;01min\u001b[39;00m \u001b[38;5;28mrange\u001b[39m(\u001b[38;5;241m2\u001b[39m):\n\u001b[1;32m     88\u001b[0m     \u001b[38;5;66;03m#add card face up for dealer first time around\u001b[39;00m\n\u001b[1;32m     89\u001b[0m     \u001b[38;5;28;01mif\u001b[39;00m i\u001b[38;5;241m==\u001b[39m\u001b[38;5;241m0\u001b[39m:\n\u001b[0;32m---> 90\u001b[0m         card\u001b[38;5;241m=\u001b[39m\u001b[43mdeck\u001b[49m\u001b[38;5;241;43m.\u001b[39;49m\u001b[43mdraw\u001b[49m\u001b[43m(\u001b[49m\u001b[43m)\u001b[49m\n\u001b[1;32m     91\u001b[0m         \u001b[38;5;28mself\u001b[39m\u001b[38;5;241m.\u001b[39mplayer_hand()\u001b[38;5;241m.\u001b[39mappend(card)\n\u001b[1;32m     92\u001b[0m         \u001b[38;5;28mself\u001b[39m\u001b[38;5;241m.\u001b[39mknown()\u001b[38;5;241m.\u001b[39mappend(card)\n",
      "Cell \u001b[0;32mIn[16], line 61\u001b[0m, in \u001b[0;36mgame_deck.draw\u001b[0;34m(self)\u001b[0m\n\u001b[1;32m     59\u001b[0m \u001b[38;5;28;01mif\u001b[39;00m top_card\u001b[38;5;241m==\u001b[39m\u001b[38;5;28mself\u001b[39m\u001b[38;5;241m.\u001b[39mplastic:\n\u001b[1;32m     60\u001b[0m     \u001b[38;5;28mself\u001b[39m\u001b[38;5;241m.\u001b[39m__deck\u001b[38;5;241m=\u001b[39m\u001b[38;5;28mself\u001b[39m\u001b[38;5;241m.\u001b[39mshuffledeck()\n\u001b[0;32m---> 61\u001b[0m     \u001b[38;5;28;01mreturn\u001b[39;00m \u001b[38;5;28;43mself\u001b[39;49m\u001b[38;5;241;43m.\u001b[39;49m\u001b[43mdraw\u001b[49m\u001b[43m(\u001b[49m\u001b[43m)\u001b[49m\n\u001b[1;32m     62\u001b[0m \u001b[38;5;28;01melse\u001b[39;00m:\n\u001b[1;32m     63\u001b[0m     \u001b[38;5;28;01mreturn\u001b[39;00m top_card\n",
      "Cell \u001b[0;32mIn[16], line 61\u001b[0m, in \u001b[0;36mgame_deck.draw\u001b[0;34m(self)\u001b[0m\n\u001b[1;32m     59\u001b[0m \u001b[38;5;28;01mif\u001b[39;00m top_card\u001b[38;5;241m==\u001b[39m\u001b[38;5;28mself\u001b[39m\u001b[38;5;241m.\u001b[39mplastic:\n\u001b[1;32m     60\u001b[0m     \u001b[38;5;28mself\u001b[39m\u001b[38;5;241m.\u001b[39m__deck\u001b[38;5;241m=\u001b[39m\u001b[38;5;28mself\u001b[39m\u001b[38;5;241m.\u001b[39mshuffledeck()\n\u001b[0;32m---> 61\u001b[0m     \u001b[38;5;28;01mreturn\u001b[39;00m \u001b[38;5;28;43mself\u001b[39;49m\u001b[38;5;241;43m.\u001b[39;49m\u001b[43mdraw\u001b[49m\u001b[43m(\u001b[49m\u001b[43m)\u001b[49m\n\u001b[1;32m     62\u001b[0m \u001b[38;5;28;01melse\u001b[39;00m:\n\u001b[1;32m     63\u001b[0m     \u001b[38;5;28;01mreturn\u001b[39;00m top_card\n",
      "    \u001b[0;31m[... skipping similar frames: game_deck.draw at line 61 (2969 times)]\u001b[0m\n",
      "Cell \u001b[0;32mIn[16], line 61\u001b[0m, in \u001b[0;36mgame_deck.draw\u001b[0;34m(self)\u001b[0m\n\u001b[1;32m     59\u001b[0m \u001b[38;5;28;01mif\u001b[39;00m top_card\u001b[38;5;241m==\u001b[39m\u001b[38;5;28mself\u001b[39m\u001b[38;5;241m.\u001b[39mplastic:\n\u001b[1;32m     60\u001b[0m     \u001b[38;5;28mself\u001b[39m\u001b[38;5;241m.\u001b[39m__deck\u001b[38;5;241m=\u001b[39m\u001b[38;5;28mself\u001b[39m\u001b[38;5;241m.\u001b[39mshuffledeck()\n\u001b[0;32m---> 61\u001b[0m     \u001b[38;5;28;01mreturn\u001b[39;00m \u001b[38;5;28;43mself\u001b[39;49m\u001b[38;5;241;43m.\u001b[39;49m\u001b[43mdraw\u001b[49m\u001b[43m(\u001b[49m\u001b[43m)\u001b[49m\n\u001b[1;32m     62\u001b[0m \u001b[38;5;28;01melse\u001b[39;00m:\n\u001b[1;32m     63\u001b[0m     \u001b[38;5;28;01mreturn\u001b[39;00m top_card\n",
      "Cell \u001b[0;32mIn[16], line 60\u001b[0m, in \u001b[0;36mgame_deck.draw\u001b[0;34m(self)\u001b[0m\n\u001b[1;32m     58\u001b[0m \u001b[38;5;66;03m#shuffle if card is the plastic card\u001b[39;00m\n\u001b[1;32m     59\u001b[0m \u001b[38;5;28;01mif\u001b[39;00m top_card\u001b[38;5;241m==\u001b[39m\u001b[38;5;28mself\u001b[39m\u001b[38;5;241m.\u001b[39mplastic:\n\u001b[0;32m---> 60\u001b[0m     \u001b[38;5;28mself\u001b[39m\u001b[38;5;241m.\u001b[39m__deck\u001b[38;5;241m=\u001b[39m\u001b[38;5;28;43mself\u001b[39;49m\u001b[38;5;241;43m.\u001b[39;49m\u001b[43mshuffledeck\u001b[49m\u001b[43m(\u001b[49m\u001b[43m)\u001b[49m\n\u001b[1;32m     61\u001b[0m     \u001b[38;5;28;01mreturn\u001b[39;00m \u001b[38;5;28mself\u001b[39m\u001b[38;5;241m.\u001b[39mdraw()\n\u001b[1;32m     62\u001b[0m \u001b[38;5;28;01melse\u001b[39;00m:\n",
      "Cell \u001b[0;32mIn[16], line 52\u001b[0m, in \u001b[0;36mgame_deck.shuffledeck\u001b[0;34m(self)\u001b[0m\n\u001b[1;32m     51\u001b[0m \u001b[38;5;28;01mdef\u001b[39;00m \u001b[38;5;21mshuffledeck\u001b[39m(\u001b[38;5;28mself\u001b[39m):\n\u001b[0;32m---> 52\u001b[0m     \u001b[38;5;28mself\u001b[39m\u001b[38;5;241m.\u001b[39m__deck\u001b[38;5;241m=\u001b[39m\u001b[43mrandom\u001b[49m\u001b[38;5;241;43m.\u001b[39;49m\u001b[43msample\u001b[49m\u001b[43m(\u001b[49m\u001b[38;5;28;43mself\u001b[39;49m\u001b[38;5;241;43m.\u001b[39;49m\u001b[43m__deck\u001b[49m\u001b[43m,\u001b[49m\u001b[38;5;28;43mlen\u001b[39;49m\u001b[43m(\u001b[49m\u001b[38;5;28;43mself\u001b[39;49m\u001b[38;5;241;43m.\u001b[39;49m\u001b[43m__deck\u001b[49m\u001b[43m)\u001b[49m\u001b[43m)\u001b[49m\n\u001b[1;32m     53\u001b[0m     \u001b[38;5;28;01mreturn\u001b[39;00m \u001b[38;5;28mself\u001b[39m\u001b[38;5;241m.\u001b[39m__deck\n",
      "File \u001b[0;32m/Library/Frameworks/Python.framework/Versions/3.12/lib/python3.12/random.py:412\u001b[0m, in \u001b[0;36mRandom.sample\u001b[0;34m(self, population, k, counts)\u001b[0m\n\u001b[1;32m    360\u001b[0m \u001b[38;5;250m\u001b[39m\u001b[38;5;124;03m\"\"\"Chooses k unique random elements from a population sequence.\u001b[39;00m\n\u001b[1;32m    361\u001b[0m \n\u001b[1;32m    362\u001b[0m \u001b[38;5;124;03mReturns a new list containing elements from the population while\u001b[39;00m\n\u001b[0;32m   (...)\u001b[0m\n\u001b[1;32m    386\u001b[0m \n\u001b[1;32m    387\u001b[0m \u001b[38;5;124;03m\"\"\"\u001b[39;00m\n\u001b[1;32m    389\u001b[0m \u001b[38;5;66;03m# Sampling without replacement entails tracking either potential\u001b[39;00m\n\u001b[1;32m    390\u001b[0m \u001b[38;5;66;03m# selections (the pool) in a list or previous selections in a set.\u001b[39;00m\n\u001b[1;32m    391\u001b[0m \n\u001b[0;32m   (...)\u001b[0m\n\u001b[1;32m    409\u001b[0m \u001b[38;5;66;03m# too many calls to _randbelow(), making them slower and\u001b[39;00m\n\u001b[1;32m    410\u001b[0m \u001b[38;5;66;03m# causing them to eat more entropy than necessary.\u001b[39;00m\n\u001b[0;32m--> 412\u001b[0m \u001b[38;5;28;01mif\u001b[39;00m \u001b[38;5;129;01mnot\u001b[39;00m \u001b[38;5;28;43misinstance\u001b[39;49m\u001b[43m(\u001b[49m\u001b[43mpopulation\u001b[49m\u001b[43m,\u001b[49m\u001b[43m \u001b[49m\u001b[43m_Sequence\u001b[49m\u001b[43m)\u001b[49m:\n\u001b[1;32m    413\u001b[0m     \u001b[38;5;28;01mraise\u001b[39;00m \u001b[38;5;167;01mTypeError\u001b[39;00m(\u001b[38;5;124m\"\u001b[39m\u001b[38;5;124mPopulation must be a sequence.  \u001b[39m\u001b[38;5;124m\"\u001b[39m\n\u001b[1;32m    414\u001b[0m                     \u001b[38;5;124m\"\u001b[39m\u001b[38;5;124mFor dicts or sets, use sorted(d).\u001b[39m\u001b[38;5;124m\"\u001b[39m)\n\u001b[1;32m    415\u001b[0m n \u001b[38;5;241m=\u001b[39m \u001b[38;5;28mlen\u001b[39m(population)\n",
      "\u001b[0;31mRecursionError\u001b[0m: maximum recursion depth exceeded"
     ]
    }
   ],
   "source": [
    "#testing scenario player\n",
    "sp1=Q6Player('Scenario Player')\n",
    "sp2=Dealer('p2')\n",
    "sp3=Dealer('p3')\n",
    "sp4=Dealer('p4')\n",
    "plist=[sp1,sp2,sp3,sp4]\n",
    "\n",
    "q6_game=Blackjack(6,50,plist)\n",
    "BJGame(q6_game,verbose=False)"
   ]
  },
  {
   "cell_type": "code",
   "execution_count": null,
   "metadata": {},
   "outputs": [],
   "source": [
    "#100 game loop\n",
    "def game_loop(loops,game_func):\n",
    "    game_results=[] #list to hold results from each game\n",
    "    #looping blackjack game\n",
    "    for i in range(loops):\n",
    "        game_results+=game_func #adding results to list\n",
    "    return game_results #returning all results"
   ]
  },
  {
   "cell_type": "code",
   "execution_count": null,
   "metadata": {},
   "outputs": [],
   "source": [
    "#Qustion 8, running loop\n",
    "results=game_loop(100,BJGame(q6_game))\n",
    "res=np.array(results) #list of list into array\n",
    "res=res[:,:-1]"
   ]
  },
  {
   "cell_type": "code",
   "execution_count": 10,
   "metadata": {},
   "outputs": [],
   "source": [
    "import matplotlib.pyplot as plt\n",
    "%matplotlib inline"
   ]
  },
  {
   "cell_type": "code",
   "execution_count": null,
   "metadata": {},
   "outputs": [],
   "source": [
    "#iterating through players\n",
    "for i in range(res.shape[1]):\n",
    "    plt.hist(res[:,i],label='Player '+str(i),alpha=0.5) #plotting histogram of each players' results over the 100 games on a single plot\n",
    "plt.legend() #legend so you can tell which player is which histogram\n",
    "plt.show()"
   ]
  },
  {
   "cell_type": "code",
   "execution_count": null,
   "metadata": {},
   "outputs": [],
   "source": [
    "#calculating mean and standard deviation\n",
    "m=np.mean(res,axis=0)\n",
    "s=np.std(res,axis=0)\n",
    "plt.errorbar(range(len(m)),m,s) #graphing the error, variability of each player"
   ]
  }
 ],
 "metadata": {
  "kernelspec": {
   "display_name": "Python 3 (ipykernel)",
   "language": "python",
   "name": "python3"
  },
  "language_info": {
   "codemirror_mode": {
    "name": "ipython",
    "version": 3
   },
   "file_extension": ".py",
   "mimetype": "text/x-python",
   "name": "python",
   "nbconvert_exporter": "python",
   "pygments_lexer": "ipython3",
   "version": "3.12.1"
  }
 },
 "nbformat": 4,
 "nbformat_minor": 4
}
