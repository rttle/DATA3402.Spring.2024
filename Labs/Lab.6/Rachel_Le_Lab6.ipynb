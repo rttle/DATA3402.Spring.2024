{
 "cells": [
  {
   "cell_type": "markdown",
   "metadata": {},
   "source": [
    "# Lab 5"
   ]
  },
  {
   "cell_type": "markdown",
   "metadata": {},
   "source": [
    "You are tasked with evaluating card counting strategies for black jack. In order to do so, you will use object oriented programming to create a playable casino style black jack game where a computer dealer plays against $n$ computer players and possibily one human player. If you don't know the rules of blackjack or card counting, please google it. \n",
    "\n",
    "A few requirements:\n",
    "* The game should utilize multiple 52-card decks. Typically the game is played with 6 decks.\n",
    "* Players should have chips.\n",
    "* Dealer's actions are predefined by rules of the game (typically hit on 16). \n",
    "* The players should be aware of all shown cards so that they can count cards.\n",
    "* Each player could have a different strategy.\n",
    "* The system should allow you to play large numbers of games, study the outcomes, and compare average winnings per hand rate for different strategies."
   ]
  },
  {
   "cell_type": "markdown",
   "metadata": {},
   "source": [
    "1. Begin by creating a classes to represent cards and decks. The deck should support more than one 52-card set. The deck should allow you to shuffle and draw cards. Include a \"plastic\" card, placed randomly in the deck. Later, when the plastic card is dealt, shuffle the cards before the next deal."
   ]
  },
  {
   "cell_type": "markdown",
   "metadata": {},
   "source": [
    "2. Now design your game on a UML diagram. You may want to create classes to represent, players, a hand, and/or the game. As you work through the lab, update your UML diagram. At the end of the lab, submit your diagram (as pdf file) along with your notebook. "
   ]
  },
  {
   "cell_type": "markdown",
   "metadata": {},
   "source": [
    "3. Begin with implementing the skeleton (ie define data members and methods/functions, but do not code the logic) of the classes in your UML diagram."
   ]
  },
  {
   "cell_type": "markdown",
   "metadata": {},
   "source": [
    "4. Complete the implementation by coding the logic of all functions. For now, just implement the dealer player and human player."
   ]
  },
  {
   "cell_type": "markdown",
   "metadata": {},
   "source": [
    "5.  Test. Demonstrate game play. For example, create a game of several dealer players and show that the game is functional through several rounds."
   ]
  },
  {
   "cell_type": "markdown",
   "metadata": {},
   "source": [
    "6. Implement a new player with the following strategy:\n",
    "\n",
    "    * Assign each card a value: \n",
    "        * Cards 2 to 6 are +1 \n",
    "        * Cards 7 to 9 are 0 \n",
    "        * Cards 10 through Ace are -1\n",
    "    * Compute the sum of the values for all cards seen so far.\n",
    "    * Hit if sum is very negative, stay if sum is very positive. Select a threshold for hit/stay, e.g. 0 or -2.  "
   ]
  },
  {
   "cell_type": "markdown",
   "metadata": {},
   "source": [
    "7. Create a test scenario where one player, using the above strategy, is playing with a dealer and 3 other players that follow the dealer's strategy. Each player starts with same number of chips. Play 50 rounds (or until the strategy player is out of money). Compute the strategy player's winnings. You may remove unnecessary printouts from your code (perhaps implement a verbose/quiet mode) to reduce the output."
   ]
  },
  {
   "cell_type": "markdown",
   "metadata": {},
   "source": [
    "8. Create a loop that runs 100 games of 50 rounds, as setup in previous question, and store the strategy player's chips at the end of the game (aka \"winnings\") in a list. Histogram the winnings. What is the average winnings per round? What is the standard deviation. What is the probabilty of net winning or lossing after 50 rounds?\n"
   ]
  },
  {
   "cell_type": "markdown",
   "metadata": {},
   "source": [
    "9. Repeat previous questions scanning the value of the threshold. Try at least 5 different threshold values. Can you find an optimal value?"
   ]
  },
  {
   "cell_type": "markdown",
   "metadata": {},
   "source": [
    "10. Create a new strategy based on web searches or your own ideas. Demonstrate that the new strategy will result in increased or decreased winnings. "
   ]
  },
  {
   "cell_type": "markdown",
   "metadata": {},
   "source": [
    "Rachel's notes; free to ignore\n",
    "\n",
    "Rules from: https://bicyclecards.com/how-to-play/blackjack/\n",
    "\n",
    "Blackjack\n",
    "- as close to 21 without going over 21\n",
    "- Betting\n",
    "    - place bets before deal begins\n",
    "    - minimum and maximum limits (GR: $2-$500)\n",
    "    - will ignore splitting pairs (player will not get option to split pairs)\n",
    "    - will ignore insurance and doubling down\n",
    "    - if dealer goes over 21, each player that has stood is paid their bet\n",
    "    - if dealer at 21 or less, pays the bet of any player having a higher total and collects from those with a lower total\n",
    "        - if dealer and player have equal total, no pay/collection\n",
    "\n",
    "Game\n",
    "- to start each player + dealer is given one card faced up, then a second card face up to each player, but dealer gets their second card face down\n",
    "- stand/hit\n",
    "    - if bust (over 21), dealer collects the bet wagered\n",
    "    - Ace can either count as 1 or 11 depending on the player's hand\n",
    "- Dealer's play\n",
    "    - once all players have been served by the dealer, the dealer's face down card is turned up\n",
    "    - Rule: hit when <=16\n",
    "- drawing plastic card results in shuffling"
   ]
  },
  {
   "cell_type": "code",
   "execution_count": 1,
   "metadata": {},
   "outputs": [],
   "source": [
    "import numpy as np"
   ]
  },
  {
   "cell_type": "code",
   "execution_count": 13,
   "metadata": {},
   "outputs": [],
   "source": [
    "# Create some virtual classes\n",
    "\n",
    "class base:\n",
    "    def __init__(self,name):\n",
    "        self.__name=name\n",
    "\n",
    "    def name(self):\n",
    "        return self.__name\n",
    "    \n",
    "\n",
    "class data(base):\n",
    "    def __init__(self,name):\n",
    "        base.__init__(self,name)\n",
    "        \n",
    "class alg(base):\n",
    "    def __init__(self,name):\n",
    "        base.__init__(self,name)\n"
   ]
  },
  {
   "cell_type": "code",
   "execution_count": 58,
   "metadata": {},
   "outputs": [],
   "source": [
    "import numpy as np\n",
    "import random\n",
    "\n",
    "#Data classes\n",
    "\n",
    "class cards(data):\n",
    "    def __init__(self,suit,value):\n",
    "        self.__suit=suit\n",
    "        self.__value=value\n",
    "    \n",
    "    #accessors\n",
    "    def suit(self):\n",
    "        return self.__suit\n",
    "    \n",
    "    def value(self):\n",
    "        return self.__value\n",
    "    \n",
    "    def show_card(self):\n",
    "        print(self.__suit, self.__value)\n",
    "\n",
    "    def __str__(self):\n",
    "        return str((self.__suit,self.__value))\n",
    "    \n",
    "    __repr__=__str__\n",
    "\n",
    "class game_deck(data):\n",
    "    def __init__(self,n): #where n is the number of decks\n",
    "        self.__n=n\n",
    "        self.__deck=[] #list to represent game deck\n",
    "        self.plastic=cards('plastic','plastic')\n",
    "\n",
    "        #making game deck\n",
    "        suits=['Clubs','Diamonds','Hearts','Spades']\n",
    "        face_cards=['Jack','Queen','King','Ace']\n",
    "\n",
    "        #add n number of decks to the deck list\n",
    "        for l in range(self.__n):\n",
    "            for i in range(4):\n",
    "                #adding numbered cards\n",
    "                for j in range(2,11): self.__deck.append(cards(suits[i],j)) \n",
    "                #adding face cards\n",
    "                for k in range(4): self.__deck.append(cards(suits[i],face_cards[k]))\n",
    "\n",
    "        #adding plastic card\n",
    "        self.__deck.append(self.plastic)\n",
    "\n",
    "    def __getitem__(self,key):\n",
    "        return self.__deck[key]\n",
    "    \n",
    "    def draw(self):\n",
    "        #top card is first card in list\n",
    "        top_card=self.__deck[0]\n",
    "        #shuffle if card is the plastic card\n",
    "        if top_card==self.plastic:\n",
    "            self.__deck=self.__deck.shuffledeck()\n",
    "            return self.__deck.draw()\n",
    "        else:\n",
    "            return top_card\n",
    "\n",
    "    #method to shuffle deck\n",
    "    def shuffledeck(self):\n",
    "        self.__deck=random.sample(self.__deck,len(self.__deck))\n",
    "        return self.__deck\n"
   ]
  },
  {
   "cell_type": "code",
   "execution_count": 48,
   "metadata": {},
   "outputs": [
    {
     "name": "stdout",
     "output_type": "stream",
     "text": [
      "Spades 10\n",
      "Spades 10\n"
     ]
    }
   ],
   "source": [
    "#testing card class\n",
    "c=cards('Spades',10)\n",
    "print(c.suit(),c.value())\n",
    "c.show_card()"
   ]
  },
  {
   "cell_type": "code",
   "execution_count": 59,
   "metadata": {},
   "outputs": [
    {
     "name": "stdout",
     "output_type": "stream",
     "text": [
      "('Clubs', 2)\n",
      "('Clubs', 2)\n",
      "\n"
     ]
    },
    {
     "data": {
      "text/plain": [
       "('Diamonds', 'King')"
      ]
     },
     "execution_count": 59,
     "metadata": {},
     "output_type": "execute_result"
    }
   ],
   "source": [
    "#testing deck class\n",
    "d=game_deck(2)\n",
    "\n",
    "#checking that first card is what is drawn\n",
    "print(d[0])\n",
    "print(d.draw())\n",
    "print() #for visual space\n",
    "\n",
    "#checking shuffle\n",
    "shuf=d.shuffledeck()\n",
    "shuf[0]"
   ]
  },
  {
   "cell_type": "code",
   "execution_count": 81,
   "metadata": {},
   "outputs": [],
   "source": [
    "#Data classes\n",
    "\n",
    "class Player(data):\n",
    "    def __init__(self):\n",
    "        self.__hand=[]\n",
    "        self.__chips=1000 #arbitrary amount that I decided players will start with\n",
    "        self.__total=0\n",
    "        self.__bet=0\n",
    "\n",
    "    def player_hand(self):\n",
    "        return self.__hand\n",
    "    \n",
    "    def hand_total(self):\n",
    "        for card in self.__hand:\n",
    "            if isinstance(card.__value,int):\n",
    "                self.__total+=card.__value\n",
    "            elif isinstance(card.__value,str):\n",
    "                if card.__value!='Ace':\n",
    "                    self.__total+=10\n",
    "                else:\n",
    "                    if self.__total<11:\n",
    "                        self.__total+=11\n",
    "                    else:\n",
    "                        self.__total+=1\n",
    "        return self.__total\n",
    "    \n",
    "    def player_chips(self):\n",
    "        return self.__chips\n",
    "    \n",
    "    def player_bet(self):\n",
    "        return self.__bet\n",
    "    \n",
    "class Dealer(Player):\n",
    "    def __init__(self):\n",
    "        Player.__init__(self)\n",
    "\n",
    "class Human(Player):\n",
    "    def __init__(self):\n",
    "        Player.__init__(self)\n",
    "\n",
    "class Q6Player(Player):\n",
    "    def __init__(self):\n",
    "        Player.__init__(self)\n",
    "\n",
    "    def card_counting(self,knowncards):\n",
    "        #initial start with 0 value\n",
    "        comp=0\n",
    "\n",
    "        #iterating through knowncards and summing values\n",
    "        for card in knowncards:\n",
    "            if card.__value<7 and card.__value>=2:\n",
    "                comp+=1\n",
    "            elif card.__value<10 and card.__value>=7:\n",
    "                comp+=0\n",
    "            else:\n",
    "                comp+=1\n",
    "        \n",
    "        #computated sum returned as output to be used to hit/stand\n",
    "        return comp\n",
    "\n",
    "    \n",
    "class Blackjack(data):\n",
    "    def __init__(self,number_decks,rounds,players):\n",
    "        self.__number_decks=number_decks\n",
    "        self.__rounds=rounds\n",
    "        self.__players=players #players should be a list of Player objects\n",
    "        self.__dealer=Dealer()\n",
    "        self.__gamedeck=game_deck(self.__number_decks)\n",
    "        self.__known=[]\n",
    "        self.__hidden=[]\n",
    "\n",
    "    #accessors\n",
    "    def number_decks(self):\n",
    "        return self.__number_decks\n",
    "    \n",
    "    def players(self):\n",
    "        return self.__players\n",
    "\n",
    "    def rounds(self):\n",
    "        return self.__rounds\n",
    "    \n",
    "    def dealer(self):\n",
    "        return self.__dealer\n",
    "    \n",
    "    def gamedeck(self):\n",
    "        return self.__gamedeck\n",
    "    \n",
    "    def known(self):\n",
    "        return self.__known\n",
    "    \n",
    "    def hidden(self):\n",
    "        return self.__hidden"
   ]
  },
  {
   "cell_type": "code",
   "execution_count": 61,
   "metadata": {},
   "outputs": [
    {
     "data": {
      "text/plain": [
       "[]"
      ]
     },
     "execution_count": 61,
     "metadata": {},
     "output_type": "execute_result"
    }
   ],
   "source": [
    "#testing Player class\n",
    "player1=Player()\n",
    "player1.player_hand() #should return empty list\n"
   ]
  },
  {
   "cell_type": "code",
   "execution_count": 66,
   "metadata": {},
   "outputs": [
    {
     "name": "stdout",
     "output_type": "stream",
     "text": [
      "None\n",
      "0\n",
      "1000\n"
     ]
    }
   ],
   "source": [
    "#testing Player class continued; all should reflect initialization numbers\n",
    "print(player1.hand_total()) \n",
    "print(player1.player_bet())\n",
    "print(player1.player_chips())"
   ]
  },
  {
   "cell_type": "code",
   "execution_count": 83,
   "metadata": {},
   "outputs": [
    {
     "name": "stdout",
     "output_type": "stream",
     "text": [
      "('Clubs', 3)\n",
      "\n",
      "5\n",
      "\n",
      "[<__main__.Player object at 0x1074675c0>, <__main__.Player object at 0x1074f65d0>]\n",
      "[]\n",
      "[]\n"
     ]
    }
   ],
   "source": [
    "#testing Blackjack class\n",
    "player2=Player()\n",
    "b=Blackjack(2,5,[player1,player2])\n",
    "print(b.gamedeck()[53]) #check that gamedeck is actually two decks combined\n",
    "print()\n",
    "\n",
    "#testing rounds accessor; expecting 5\n",
    "print(b.rounds())\n",
    "print()\n",
    "\n",
    "#testing other attribute accessors, expecting list of Player class objects and empty lists\n",
    "print(b.players())\n",
    "print(b.known())\n",
    "print(b.hidden())"
   ]
  },
  {
   "cell_type": "code",
   "execution_count": 24,
   "metadata": {},
   "outputs": [],
   "source": [
    "#Algorithm classes\n",
    "\n",
    "class initial_setup(alg):\n",
    "    def __init__(self,name):\n",
    "        alg.__init__(self,name)\n",
    "    \n",
    "    def initial_hand(self,a_player,deck):\n",
    "        #give a card and removes from deck\n",
    "        card=deck.draw()\n",
    "        a_player.__hand.append(card)\n",
    "        deck.__known.append(card)\n",
    "        deck.remove(card)\n",
    "\n",
    "    #method for giving dealer their second card face down\n",
    "    def initial_dealer(self,dealer,deck):\n",
    "        card=deck.draw()\n",
    "        dealer.__hand.append(card)\n",
    "        deck.__hidden.append(card)\n",
    "        deck.remove(card)\n",
    "\n",
    "class place_bet(alg):\n",
    "    def __init__(self,name):\n",
    "        alg.__init__(self,name)\n",
    "\n",
    "    def bet(self,a_player):\n",
    "        if not isinstance(a_player,[Player,Dealer,Human,Q6Player]):\n",
    "            return TypeError\n",
    "        elif isinstance(a_player,Human):\n",
    "            hbet=int(input('Bet amount: '))\n",
    "            while a_player.__chips-hbet<0:\n",
    "                hbet=int(input('Bet amount: '))\n",
    "            return hbet\n",
    "        #general rule for other players (for convenience)\n",
    "        else:\n",
    "            player_bet=5\n",
    "            if a_player.__chips-player_bet<0:\n",
    "                print(f'{a_player} is out of chips')\n",
    "            else:\n",
    "                return player_bet\n",
    "\n",
    "class pay_collect(alg):\n",
    "    def __init__(self,name):\n",
    "        alg.__init__(self,name)\n",
    "\n",
    "    def paycollect(self):\n",
    "        for player in self.__blackjack.__players:\n",
    "            #collects bet if player busts\n",
    "            if player.__total>21:\n",
    "                player.__chips-=player.__bet\n",
    "            #player collects if (player total>dealer total) or (dealer bust and player<21)\n",
    "            elif player.__total>self.__blackjack.__dealer.__total or (self.__blackjack.__dealer.__total>21 and player<=21):\n",
    "                player.__chips+=player.__bet\n",
    "            #note: no chips paid/collected if player total = dealer total\n",
    "            #print out players' chip status\n",
    "            print(f'{player} chips: {player.__chips}')\n",
    "            \n",
    "class move:\n",
    "    def __init__(self,name):\n",
    "        alg.__init__(self,name)\n",
    "\n",
    "    def player_move(self,a_player):\n",
    "        #human player (asking for inputs)\n",
    "        if isinstance(a_player,Human):\n",
    "            #ask to hit or stand to user\n",
    "            hmove=input('Hit or stand? ')\n",
    "            hmove.lower()\n",
    "        \n",
    "            #keep requesting input until hit or stand is given\n",
    "            while hmove!='hit' or hmove!='stand':\n",
    "                hmove=input('Hit or stand? ')\n",
    "\n",
    "            if hmove=='hit':\n",
    "                new_card=self.__blackjack.__gamedeck.draw()\n",
    "                a_player.__hand.append(new_card)\n",
    "                self.__blackjack.__known.append(new_card)\n",
    "                self.__blackjack.__gamedeck.remove(new_card)\n",
    "            else:\n",
    "                return 'stood'\n",
    "\n",
    "        if isinstance(a_player,Dealer):\n",
    "            #dealer hits on 16\n",
    "            if a_player.hand_total()<17:\n",
    "                new_card=self.__blackjack.__gamedeck.draw()\n",
    "                a_player.__hand.append(new_card)\n",
    "                self.__blackjack.__known.append(new_card)\n",
    "                self.__blackjack.__gamedeck.remove(new_card)\n",
    "            else:\n",
    "                return 'stood'\n",
    "\n",
    "        #Question 6 strat\n",
    "        if isinstance(a_player,Q6Player):\n",
    "            #hit if computed sum is less than -3, otherwise stand\n",
    "            if a_player.card_counting()<-3:\n",
    "                new_card=self.__blackjack.__gamedeck.draw()\n",
    "                a_player.__hand.append(new_card)\n",
    "                self.__blackjack.__known.append(new_card)\n",
    "                self.__blackjack.__gamedeck.remove(new_card)\n",
    "            else:\n",
    "                return 'stood'"
   ]
  },
  {
   "cell_type": "code",
   "execution_count": 45,
   "metadata": {},
   "outputs": [],
   "source": [
    "#function that wraps all the classes to perform a game of Blackjack\n",
    "def BJGame(blackjack):\n",
    "    #check blackjack class\n",
    "    if not isinstance(blackjack,Blackjack):\n",
    "        TypeError\n",
    "    else: #the game initiates\n",
    "        #start at round 1\n",
    "        game_round=1\n",
    "\n",
    "        #set up initial hands for players/dealer\n",
    "        for i in range(2):\n",
    "            #players are dealt one cards face up before looping to do so once again\n",
    "            for player in blackjack.__players:\n",
    "                initial_setup().initial_hand(player,blackjack.__gamedeck)\n",
    "            #dealer of game is deals first card face up like players  \n",
    "            if i==0:\n",
    "                initial_setup().initial_hand(blackjack.__dealer,blackjack.__gamedeck)\n",
    "            #dealer is deals second card to themselves face down\n",
    "            elif i==1:\n",
    "                initial_setup().initial_dealer(blackjack.__dealer,blackjack.__gamedeck)\n",
    "\n",
    "        while game_round<blackjack.__rounds:\n",
    "            #Print out what round\n",
    "            print(f'Round {game_round}')\n",
    "\n",
    "            #betting for round\n",
    "            for player in blackjack.__players:\n",
    "                player.__bet=place_bet.bet()\n",
    "                #initial status to allow for looping\n",
    "                player.stand_status=False\n",
    "            \n",
    "            #Round starts (actual card game)\n",
    "            while any(player.stand_status==False):\n",
    "                for player in blackjack.__player:\n",
    "                    #if player calls stand, dealer stops dealing to them\n",
    "                    if player.stand_status==True:\n",
    "                        continue\n",
    "                    #player gets dealt until calls stand\n",
    "                    else:\n",
    "                        mv=move(blackjack).player_move(player)\n",
    "                        if mv=='stood':\n",
    "                            player.stand_status=True\n",
    "\n",
    "            #Round finished; bets paid/collect\n",
    "            pay_collect().paycollect()        \n",
    "\n",
    "            #round count updated\n",
    "            game_round+=1\n",
    "\n",
    "        print('Blackjack game ended')\n",
    "\n"
   ]
  },
  {
   "cell_type": "code",
   "execution_count": 30,
   "metadata": {},
   "outputs": [
    {
     "ename": "AttributeError",
     "evalue": "'Blackjack' object has no attribute '__players'",
     "output_type": "error",
     "traceback": [
      "\u001b[0;31m---------------------------------------------------------------------------\u001b[0m",
      "\u001b[0;31mAttributeError\u001b[0m                            Traceback (most recent call last)",
      "Cell \u001b[0;32mIn[30], line 8\u001b[0m\n\u001b[1;32m      5\u001b[0m players_list\u001b[38;5;241m=\u001b[39m[p1,p2,p3]\n\u001b[1;32m      7\u001b[0m bj\u001b[38;5;241m=\u001b[39mBlackjack(\u001b[38;5;241m6\u001b[39m,\u001b[38;5;241m5\u001b[39m,players_list)\n\u001b[0;32m----> 8\u001b[0m \u001b[43mBJGame\u001b[49m\u001b[43m(\u001b[49m\u001b[43mbj\u001b[49m\u001b[43m)\u001b[49m\n",
      "Cell \u001b[0;32mIn[25], line 12\u001b[0m, in \u001b[0;36mBJGame\u001b[0;34m(blackjack)\u001b[0m\n\u001b[1;32m      9\u001b[0m \u001b[38;5;66;03m#set up initial hands for players/dealer\u001b[39;00m\n\u001b[1;32m     10\u001b[0m \u001b[38;5;28;01mfor\u001b[39;00m i \u001b[38;5;129;01min\u001b[39;00m \u001b[38;5;28mrange\u001b[39m(\u001b[38;5;241m2\u001b[39m):\n\u001b[1;32m     11\u001b[0m     \u001b[38;5;66;03m#players are dealt one cards face up before looping to do so once again\u001b[39;00m\n\u001b[0;32m---> 12\u001b[0m     \u001b[38;5;28;01mfor\u001b[39;00m player \u001b[38;5;129;01min\u001b[39;00m \u001b[43mblackjack\u001b[49m\u001b[38;5;241;43m.\u001b[39;49m\u001b[43m__players\u001b[49m:\n\u001b[1;32m     13\u001b[0m         initial_setup()\u001b[38;5;241m.\u001b[39minitial_hand(player,blackjack\u001b[38;5;241m.\u001b[39m__gamedeck)\n\u001b[1;32m     14\u001b[0m     \u001b[38;5;66;03m#dealer of game is deals first card face up like players  \u001b[39;00m\n",
      "\u001b[0;31mAttributeError\u001b[0m: 'Blackjack' object has no attribute '__players'"
     ]
    }
   ],
   "source": [
    "#testing with one human player and two dealer players\n",
    "p1=Human()\n",
    "p2=Dealer()\n",
    "p3=Dealer()\n",
    "players_list=[p1,p2,p3]\n",
    "\n",
    "bj=Blackjack(6,5,players_list)\n",
    "BJGame(bj)"
   ]
  },
  {
   "cell_type": "code",
   "execution_count": null,
   "metadata": {},
   "outputs": [],
   "source": []
  }
 ],
 "metadata": {
  "kernelspec": {
   "display_name": "Python 3 (ipykernel)",
   "language": "python",
   "name": "python3"
  },
  "language_info": {
   "codemirror_mode": {
    "name": "ipython",
    "version": 3
   },
   "file_extension": ".py",
   "mimetype": "text/x-python",
   "name": "python",
   "nbconvert_exporter": "python",
   "pygments_lexer": "ipython3",
   "version": "3.12.1"
  }
 },
 "nbformat": 4,
 "nbformat_minor": 4
}
